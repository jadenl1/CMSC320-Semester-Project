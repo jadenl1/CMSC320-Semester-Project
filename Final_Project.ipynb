{
  "nbformat": 4,
  "nbformat_minor": 0,
  "metadata": {
    "colab": {
      "provenance": []
    },
    "kernelspec": {
      "name": "python3",
      "display_name": "Python 3"
    },
    "language_info": {
      "name": "python"
    }
  },
  "cells": [
    {
      "cell_type": "markdown",
      "source": [
        "# **An Anaylsis of the New York City Housing Market**\n",
        "#### By Jaden Leonard & Parhinder Singh\n",
        "#### CMSC320 Final Project"
      ],
      "metadata": {
        "id": "RaDZMexIO7gd"
      }
    },
    {
      "cell_type": "markdown",
      "source": [
        "---\n",
        "# Introduction\n",
        "\n",
        "We have decided to base our project around the New York Housing Market dataset from\n",
        "Kaggle, see it [here](https://www.kaggle.com/datasets/nelgiriyewithana/new-york-housing-market)\n",
        "We chose this dataset because we found its potential to be promising when it comes to\n",
        "cleaning, processing, analyzing, and outputting useful information. Our team has a vision in\n",
        "which we can utilize the different given datasets to generate useful predictions about the gritty\n",
        "and unforgiving housing market within New York. These predictions will have massive upsides\n",
        "at the cost of little to no time as we plan to use artificial intelligence in the end to acquire and\n",
        "distribute the best information for a customer that is new to the city and is actively searching for\n",
        "housing in a timely manner. Our team looks forward to how we can utilize this information for\n",
        "the best"
      ],
      "metadata": {
        "id": "dwdzJSPOT4fn"
      }
    },
    {
      "cell_type": "markdown",
      "source": [
        "#### Questions & Hypothesis\n",
        "*i. Does the type of property (e.g., co-op, condo, house) have a statistically significant effect on its price?*\n",
        "\n",
        "HO: We believe that the type of property will **not** have an effect on its respective price, we believe this because we understand the NYC (New York City) housing market relies far more on its location rather than the type of space it is.\n",
        "\n",
        "*ii. Does the city or region influence the distribution of property types?*\n",
        "\n",
        "HO: We decided to believe the city or region **does** have an effect on the distribution of property types. We believe this to be likely as NYC is a very dense and concentrated city, apartments and condos take up less space, so they are more likely to stay together in the more dense areas, while the lesser dense areas will more likely contain houses.\n",
        "\n",
        "*iii. How does the average price of a specific property type (e.g., condos) in New York compare to a hypothetical national average?*\n",
        "\n",
        "HO: NYC is notorious for its cut-throat housing market, so we believe that the average price will be a **large over-estimate** when comparing it to the national average."
      ],
      "metadata": {
        "id": "NU668kvcPj7B"
      }
    },
    {
      "cell_type": "markdown",
      "source": [
        "\n",
        "\n",
        "> ***What can we tell with our answers?***\n",
        ">\n",
        "> Understanding the effects of property type on price and location on property distribution provides essential insights for economic planning, investment decisions, and consumer choices in real estate. Additionally, comparing local property prices in New York City to the national average helps in assessing market dynamics and informing policy and urban development strategies.\n",
        "\n"
      ],
      "metadata": {
        "id": "oImLciq-UOgW"
      }
    },
    {
      "cell_type": "markdown",
      "source": [
        "---\n",
        "# Part 1: Data Collection & Data Cleaning\n",
        "\n",
        "This dataset is a collection of all different types of New York houses and their prices. It is a CSV files that contains many different features and information of the house that can be used to analyze price, size, and location as well\n",
        "\n",
        "**Some of the key features:**\n",
        "- Price of house\n",
        "- Type of house\n",
        "- Number of Beds\n",
        "- Number of Bathrooms\n",
        "- Property Square Footage"
      ],
      "metadata": {
        "id": "dpnTzCZSVXBL"
      }
    },
    {
      "cell_type": "markdown",
      "source": [
        "### First we import the csv file and neccessary libraries and display the table"
      ],
      "metadata": {
        "id": "D9we9MBlVbwT"
      }
    },
    {
      "cell_type": "code",
      "source": [
        "# importing necessary libraries\n",
        "import pandas as pd\n",
        "from scipy import stats\n",
        "import matplotlib.pyplot as plt\n",
        "import seaborn as sns\n",
        "import numpy as np\n"
      ],
      "metadata": {
        "id": "ofaU6yrcNjKI"
      },
      "execution_count": 1,
      "outputs": []
    },
    {
      "cell_type": "code",
      "source": [
        "# Load the dataset into a DataFrame\n",
        "df = pd.read_csv('NY-House-Dataset.csv')\n",
        "\n",
        "# Display the first few rows of the DataFrame to verify the import\n",
        "df.head()"
      ],
      "metadata": {
        "colab": {
          "base_uri": "https://localhost:8080/",
          "height": 469
        },
        "id": "uVNEXyj1OgWh",
        "outputId": "7864d54a-d61c-4b22-b72e-30e8496a9d56"
      },
      "execution_count": 2,
      "outputs": [
        {
          "output_type": "execute_result",
          "data": {
            "text/plain": [
              "                                         BROKERTITLE                TYPE  \\\n",
              "0        Brokered by Douglas Elliman  -111 Fifth Ave      Condo for sale   \n",
              "1                                Brokered by Serhant      Condo for sale   \n",
              "2                             Brokered by Sowae Corp      House for sale   \n",
              "3                                Brokered by COMPASS      Condo for sale   \n",
              "4  Brokered by Sotheby's International Realty - E...  Townhouse for sale   \n",
              "\n",
              "       PRICE  BEDS       BATH  PROPERTYSQFT  \\\n",
              "0     315000     2   2.000000        1400.0   \n",
              "1  195000000     7  10.000000       17545.0   \n",
              "2     260000     4   2.000000        2015.0   \n",
              "3      69000     3   1.000000         445.0   \n",
              "4   55000000     7   2.373861       14175.0   \n",
              "\n",
              "                                             ADDRESS                    STATE  \\\n",
              "0                               2 E 55th St Unit 803       New York, NY 10022   \n",
              "1  Central Park Tower Penthouse-217 W 57th New Yo...       New York, NY 10019   \n",
              "2                                   620 Sinclair Ave  Staten Island, NY 10312   \n",
              "3                            2 E 55th St Unit 908W33      Manhattan, NY 10022   \n",
              "4                                        5 E 64th St       New York, NY 10065   \n",
              "\n",
              "                                        MAIN_ADDRESS  \\\n",
              "0             2 E 55th St Unit 803New York, NY 10022   \n",
              "1  Central Park Tower Penthouse-217 W 57th New Yo...   \n",
              "2            620 Sinclair AveStaten Island, NY 10312   \n",
              "3         2 E 55th St Unit 908W33Manhattan, NY 10022   \n",
              "4                      5 E 64th StNew York, NY 10065   \n",
              "\n",
              "  ADMINISTRATIVE_AREA_LEVEL_2  LOCALITY      SUBLOCALITY       STREET_NAME  \\\n",
              "0             New York County  New York        Manhattan  East 55th Street   \n",
              "1               United States  New York  New York County          New York   \n",
              "2               United States  New York  Richmond County     Staten Island   \n",
              "3               United States  New York  New York County          New York   \n",
              "4               United States  New York  New York County          New York   \n",
              "\n",
              "          LONG_NAME                                  FORMATTED_ADDRESS  \\\n",
              "0   Regis Residence  Regis Residence, 2 E 55th St #803, New York, N...   \n",
              "1  West 57th Street             217 W 57th St, New York, NY 10019, USA   \n",
              "2   Sinclair Avenue     620 Sinclair Ave, Staten Island, NY 10312, USA   \n",
              "3  East 55th Street               2 E 55th St, New York, NY 10022, USA   \n",
              "4  East 64th Street               5 E 64th St, New York, NY 10065, USA   \n",
              "\n",
              "    LATITUDE  LONGITUDE  \n",
              "0  40.761255 -73.974483  \n",
              "1  40.766393 -73.980991  \n",
              "2  40.541805 -74.196109  \n",
              "3  40.761398 -73.974613  \n",
              "4  40.767224 -73.969856  "
            ],
            "text/html": [
              "\n",
              "  <div id=\"df-5784bb49-23fd-49aa-b35f-3f778f75409c\" class=\"colab-df-container\">\n",
              "    <div>\n",
              "<style scoped>\n",
              "    .dataframe tbody tr th:only-of-type {\n",
              "        vertical-align: middle;\n",
              "    }\n",
              "\n",
              "    .dataframe tbody tr th {\n",
              "        vertical-align: top;\n",
              "    }\n",
              "\n",
              "    .dataframe thead th {\n",
              "        text-align: right;\n",
              "    }\n",
              "</style>\n",
              "<table border=\"1\" class=\"dataframe\">\n",
              "  <thead>\n",
              "    <tr style=\"text-align: right;\">\n",
              "      <th></th>\n",
              "      <th>BROKERTITLE</th>\n",
              "      <th>TYPE</th>\n",
              "      <th>PRICE</th>\n",
              "      <th>BEDS</th>\n",
              "      <th>BATH</th>\n",
              "      <th>PROPERTYSQFT</th>\n",
              "      <th>ADDRESS</th>\n",
              "      <th>STATE</th>\n",
              "      <th>MAIN_ADDRESS</th>\n",
              "      <th>ADMINISTRATIVE_AREA_LEVEL_2</th>\n",
              "      <th>LOCALITY</th>\n",
              "      <th>SUBLOCALITY</th>\n",
              "      <th>STREET_NAME</th>\n",
              "      <th>LONG_NAME</th>\n",
              "      <th>FORMATTED_ADDRESS</th>\n",
              "      <th>LATITUDE</th>\n",
              "      <th>LONGITUDE</th>\n",
              "    </tr>\n",
              "  </thead>\n",
              "  <tbody>\n",
              "    <tr>\n",
              "      <th>0</th>\n",
              "      <td>Brokered by Douglas Elliman  -111 Fifth Ave</td>\n",
              "      <td>Condo for sale</td>\n",
              "      <td>315000</td>\n",
              "      <td>2</td>\n",
              "      <td>2.000000</td>\n",
              "      <td>1400.0</td>\n",
              "      <td>2 E 55th St Unit 803</td>\n",
              "      <td>New York, NY 10022</td>\n",
              "      <td>2 E 55th St Unit 803New York, NY 10022</td>\n",
              "      <td>New York County</td>\n",
              "      <td>New York</td>\n",
              "      <td>Manhattan</td>\n",
              "      <td>East 55th Street</td>\n",
              "      <td>Regis Residence</td>\n",
              "      <td>Regis Residence, 2 E 55th St #803, New York, N...</td>\n",
              "      <td>40.761255</td>\n",
              "      <td>-73.974483</td>\n",
              "    </tr>\n",
              "    <tr>\n",
              "      <th>1</th>\n",
              "      <td>Brokered by Serhant</td>\n",
              "      <td>Condo for sale</td>\n",
              "      <td>195000000</td>\n",
              "      <td>7</td>\n",
              "      <td>10.000000</td>\n",
              "      <td>17545.0</td>\n",
              "      <td>Central Park Tower Penthouse-217 W 57th New Yo...</td>\n",
              "      <td>New York, NY 10019</td>\n",
              "      <td>Central Park Tower Penthouse-217 W 57th New Yo...</td>\n",
              "      <td>United States</td>\n",
              "      <td>New York</td>\n",
              "      <td>New York County</td>\n",
              "      <td>New York</td>\n",
              "      <td>West 57th Street</td>\n",
              "      <td>217 W 57th St, New York, NY 10019, USA</td>\n",
              "      <td>40.766393</td>\n",
              "      <td>-73.980991</td>\n",
              "    </tr>\n",
              "    <tr>\n",
              "      <th>2</th>\n",
              "      <td>Brokered by Sowae Corp</td>\n",
              "      <td>House for sale</td>\n",
              "      <td>260000</td>\n",
              "      <td>4</td>\n",
              "      <td>2.000000</td>\n",
              "      <td>2015.0</td>\n",
              "      <td>620 Sinclair Ave</td>\n",
              "      <td>Staten Island, NY 10312</td>\n",
              "      <td>620 Sinclair AveStaten Island, NY 10312</td>\n",
              "      <td>United States</td>\n",
              "      <td>New York</td>\n",
              "      <td>Richmond County</td>\n",
              "      <td>Staten Island</td>\n",
              "      <td>Sinclair Avenue</td>\n",
              "      <td>620 Sinclair Ave, Staten Island, NY 10312, USA</td>\n",
              "      <td>40.541805</td>\n",
              "      <td>-74.196109</td>\n",
              "    </tr>\n",
              "    <tr>\n",
              "      <th>3</th>\n",
              "      <td>Brokered by COMPASS</td>\n",
              "      <td>Condo for sale</td>\n",
              "      <td>69000</td>\n",
              "      <td>3</td>\n",
              "      <td>1.000000</td>\n",
              "      <td>445.0</td>\n",
              "      <td>2 E 55th St Unit 908W33</td>\n",
              "      <td>Manhattan, NY 10022</td>\n",
              "      <td>2 E 55th St Unit 908W33Manhattan, NY 10022</td>\n",
              "      <td>United States</td>\n",
              "      <td>New York</td>\n",
              "      <td>New York County</td>\n",
              "      <td>New York</td>\n",
              "      <td>East 55th Street</td>\n",
              "      <td>2 E 55th St, New York, NY 10022, USA</td>\n",
              "      <td>40.761398</td>\n",
              "      <td>-73.974613</td>\n",
              "    </tr>\n",
              "    <tr>\n",
              "      <th>4</th>\n",
              "      <td>Brokered by Sotheby's International Realty - E...</td>\n",
              "      <td>Townhouse for sale</td>\n",
              "      <td>55000000</td>\n",
              "      <td>7</td>\n",
              "      <td>2.373861</td>\n",
              "      <td>14175.0</td>\n",
              "      <td>5 E 64th St</td>\n",
              "      <td>New York, NY 10065</td>\n",
              "      <td>5 E 64th StNew York, NY 10065</td>\n",
              "      <td>United States</td>\n",
              "      <td>New York</td>\n",
              "      <td>New York County</td>\n",
              "      <td>New York</td>\n",
              "      <td>East 64th Street</td>\n",
              "      <td>5 E 64th St, New York, NY 10065, USA</td>\n",
              "      <td>40.767224</td>\n",
              "      <td>-73.969856</td>\n",
              "    </tr>\n",
              "  </tbody>\n",
              "</table>\n",
              "</div>\n",
              "    <div class=\"colab-df-buttons\">\n",
              "\n",
              "  <div class=\"colab-df-container\">\n",
              "    <button class=\"colab-df-convert\" onclick=\"convertToInteractive('df-5784bb49-23fd-49aa-b35f-3f778f75409c')\"\n",
              "            title=\"Convert this dataframe to an interactive table.\"\n",
              "            style=\"display:none;\">\n",
              "\n",
              "  <svg xmlns=\"http://www.w3.org/2000/svg\" height=\"24px\" viewBox=\"0 -960 960 960\">\n",
              "    <path d=\"M120-120v-720h720v720H120Zm60-500h600v-160H180v160Zm220 220h160v-160H400v160Zm0 220h160v-160H400v160ZM180-400h160v-160H180v160Zm440 0h160v-160H620v160ZM180-180h160v-160H180v160Zm440 0h160v-160H620v160Z\"/>\n",
              "  </svg>\n",
              "    </button>\n",
              "\n",
              "  <style>\n",
              "    .colab-df-container {\n",
              "      display:flex;\n",
              "      gap: 12px;\n",
              "    }\n",
              "\n",
              "    .colab-df-convert {\n",
              "      background-color: #E8F0FE;\n",
              "      border: none;\n",
              "      border-radius: 50%;\n",
              "      cursor: pointer;\n",
              "      display: none;\n",
              "      fill: #1967D2;\n",
              "      height: 32px;\n",
              "      padding: 0 0 0 0;\n",
              "      width: 32px;\n",
              "    }\n",
              "\n",
              "    .colab-df-convert:hover {\n",
              "      background-color: #E2EBFA;\n",
              "      box-shadow: 0px 1px 2px rgba(60, 64, 67, 0.3), 0px 1px 3px 1px rgba(60, 64, 67, 0.15);\n",
              "      fill: #174EA6;\n",
              "    }\n",
              "\n",
              "    .colab-df-buttons div {\n",
              "      margin-bottom: 4px;\n",
              "    }\n",
              "\n",
              "    [theme=dark] .colab-df-convert {\n",
              "      background-color: #3B4455;\n",
              "      fill: #D2E3FC;\n",
              "    }\n",
              "\n",
              "    [theme=dark] .colab-df-convert:hover {\n",
              "      background-color: #434B5C;\n",
              "      box-shadow: 0px 1px 3px 1px rgba(0, 0, 0, 0.15);\n",
              "      filter: drop-shadow(0px 1px 2px rgba(0, 0, 0, 0.3));\n",
              "      fill: #FFFFFF;\n",
              "    }\n",
              "  </style>\n",
              "\n",
              "    <script>\n",
              "      const buttonEl =\n",
              "        document.querySelector('#df-5784bb49-23fd-49aa-b35f-3f778f75409c button.colab-df-convert');\n",
              "      buttonEl.style.display =\n",
              "        google.colab.kernel.accessAllowed ? 'block' : 'none';\n",
              "\n",
              "      async function convertToInteractive(key) {\n",
              "        const element = document.querySelector('#df-5784bb49-23fd-49aa-b35f-3f778f75409c');\n",
              "        const dataTable =\n",
              "          await google.colab.kernel.invokeFunction('convertToInteractive',\n",
              "                                                    [key], {});\n",
              "        if (!dataTable) return;\n",
              "\n",
              "        const docLinkHtml = 'Like what you see? Visit the ' +\n",
              "          '<a target=\"_blank\" href=https://colab.research.google.com/notebooks/data_table.ipynb>data table notebook</a>'\n",
              "          + ' to learn more about interactive tables.';\n",
              "        element.innerHTML = '';\n",
              "        dataTable['output_type'] = 'display_data';\n",
              "        await google.colab.output.renderOutput(dataTable, element);\n",
              "        const docLink = document.createElement('div');\n",
              "        docLink.innerHTML = docLinkHtml;\n",
              "        element.appendChild(docLink);\n",
              "      }\n",
              "    </script>\n",
              "  </div>\n",
              "\n",
              "\n",
              "<div id=\"df-e5211018-f941-43a6-aa0b-184981306233\">\n",
              "  <button class=\"colab-df-quickchart\" onclick=\"quickchart('df-e5211018-f941-43a6-aa0b-184981306233')\"\n",
              "            title=\"Suggest charts\"\n",
              "            style=\"display:none;\">\n",
              "\n",
              "<svg xmlns=\"http://www.w3.org/2000/svg\" height=\"24px\"viewBox=\"0 0 24 24\"\n",
              "     width=\"24px\">\n",
              "    <g>\n",
              "        <path d=\"M19 3H5c-1.1 0-2 .9-2 2v14c0 1.1.9 2 2 2h14c1.1 0 2-.9 2-2V5c0-1.1-.9-2-2-2zM9 17H7v-7h2v7zm4 0h-2V7h2v10zm4 0h-2v-4h2v4z\"/>\n",
              "    </g>\n",
              "</svg>\n",
              "  </button>\n",
              "\n",
              "<style>\n",
              "  .colab-df-quickchart {\n",
              "      --bg-color: #E8F0FE;\n",
              "      --fill-color: #1967D2;\n",
              "      --hover-bg-color: #E2EBFA;\n",
              "      --hover-fill-color: #174EA6;\n",
              "      --disabled-fill-color: #AAA;\n",
              "      --disabled-bg-color: #DDD;\n",
              "  }\n",
              "\n",
              "  [theme=dark] .colab-df-quickchart {\n",
              "      --bg-color: #3B4455;\n",
              "      --fill-color: #D2E3FC;\n",
              "      --hover-bg-color: #434B5C;\n",
              "      --hover-fill-color: #FFFFFF;\n",
              "      --disabled-bg-color: #3B4455;\n",
              "      --disabled-fill-color: #666;\n",
              "  }\n",
              "\n",
              "  .colab-df-quickchart {\n",
              "    background-color: var(--bg-color);\n",
              "    border: none;\n",
              "    border-radius: 50%;\n",
              "    cursor: pointer;\n",
              "    display: none;\n",
              "    fill: var(--fill-color);\n",
              "    height: 32px;\n",
              "    padding: 0;\n",
              "    width: 32px;\n",
              "  }\n",
              "\n",
              "  .colab-df-quickchart:hover {\n",
              "    background-color: var(--hover-bg-color);\n",
              "    box-shadow: 0 1px 2px rgba(60, 64, 67, 0.3), 0 1px 3px 1px rgba(60, 64, 67, 0.15);\n",
              "    fill: var(--button-hover-fill-color);\n",
              "  }\n",
              "\n",
              "  .colab-df-quickchart-complete:disabled,\n",
              "  .colab-df-quickchart-complete:disabled:hover {\n",
              "    background-color: var(--disabled-bg-color);\n",
              "    fill: var(--disabled-fill-color);\n",
              "    box-shadow: none;\n",
              "  }\n",
              "\n",
              "  .colab-df-spinner {\n",
              "    border: 2px solid var(--fill-color);\n",
              "    border-color: transparent;\n",
              "    border-bottom-color: var(--fill-color);\n",
              "    animation:\n",
              "      spin 1s steps(1) infinite;\n",
              "  }\n",
              "\n",
              "  @keyframes spin {\n",
              "    0% {\n",
              "      border-color: transparent;\n",
              "      border-bottom-color: var(--fill-color);\n",
              "      border-left-color: var(--fill-color);\n",
              "    }\n",
              "    20% {\n",
              "      border-color: transparent;\n",
              "      border-left-color: var(--fill-color);\n",
              "      border-top-color: var(--fill-color);\n",
              "    }\n",
              "    30% {\n",
              "      border-color: transparent;\n",
              "      border-left-color: var(--fill-color);\n",
              "      border-top-color: var(--fill-color);\n",
              "      border-right-color: var(--fill-color);\n",
              "    }\n",
              "    40% {\n",
              "      border-color: transparent;\n",
              "      border-right-color: var(--fill-color);\n",
              "      border-top-color: var(--fill-color);\n",
              "    }\n",
              "    60% {\n",
              "      border-color: transparent;\n",
              "      border-right-color: var(--fill-color);\n",
              "    }\n",
              "    80% {\n",
              "      border-color: transparent;\n",
              "      border-right-color: var(--fill-color);\n",
              "      border-bottom-color: var(--fill-color);\n",
              "    }\n",
              "    90% {\n",
              "      border-color: transparent;\n",
              "      border-bottom-color: var(--fill-color);\n",
              "    }\n",
              "  }\n",
              "</style>\n",
              "\n",
              "  <script>\n",
              "    async function quickchart(key) {\n",
              "      const quickchartButtonEl =\n",
              "        document.querySelector('#' + key + ' button');\n",
              "      quickchartButtonEl.disabled = true;  // To prevent multiple clicks.\n",
              "      quickchartButtonEl.classList.add('colab-df-spinner');\n",
              "      try {\n",
              "        const charts = await google.colab.kernel.invokeFunction(\n",
              "            'suggestCharts', [key], {});\n",
              "      } catch (error) {\n",
              "        console.error('Error during call to suggestCharts:', error);\n",
              "      }\n",
              "      quickchartButtonEl.classList.remove('colab-df-spinner');\n",
              "      quickchartButtonEl.classList.add('colab-df-quickchart-complete');\n",
              "    }\n",
              "    (() => {\n",
              "      let quickchartButtonEl =\n",
              "        document.querySelector('#df-e5211018-f941-43a6-aa0b-184981306233 button');\n",
              "      quickchartButtonEl.style.display =\n",
              "        google.colab.kernel.accessAllowed ? 'block' : 'none';\n",
              "    })();\n",
              "  </script>\n",
              "</div>\n",
              "    </div>\n",
              "  </div>\n"
            ],
            "application/vnd.google.colaboratory.intrinsic+json": {
              "type": "dataframe",
              "variable_name": "df",
              "summary": "{\n  \"name\": \"df\",\n  \"rows\": 4801,\n  \"fields\": [\n    {\n      \"column\": \"BROKERTITLE\",\n      \"properties\": {\n        \"dtype\": \"category\",\n        \"num_unique_values\": 1036,\n        \"samples\": [\n          \"Brokered by LINCOLN V WALTERS II REALTY CORP\",\n          \"Brokered by East Coast REALTORS Inc\",\n          \"Brokered by Welhome Realty Inc\"\n        ],\n        \"semantic_type\": \"\",\n        \"description\": \"\"\n      }\n    },\n    {\n      \"column\": \"TYPE\",\n      \"properties\": {\n        \"dtype\": \"category\",\n        \"num_unique_values\": 13,\n        \"samples\": [\n          \"Mobile house for sale\",\n          \"Pending\",\n          \"Condo for sale\"\n        ],\n        \"semantic_type\": \"\",\n        \"description\": \"\"\n      }\n    },\n    {\n      \"column\": \"PRICE\",\n      \"properties\": {\n        \"dtype\": \"number\",\n        \"std\": 31355246,\n        \"min\": 2494,\n        \"max\": 2147483647,\n        \"num_unique_values\": 1274,\n        \"samples\": [\n          49500,\n          755000,\n          699998\n        ],\n        \"semantic_type\": \"\",\n        \"description\": \"\"\n      }\n    },\n    {\n      \"column\": \"BEDS\",\n      \"properties\": {\n        \"dtype\": \"number\",\n        \"std\": 2,\n        \"min\": 1,\n        \"max\": 50,\n        \"num_unique_values\": 27,\n        \"samples\": [\n          12,\n          14,\n          10\n        ],\n        \"semantic_type\": \"\",\n        \"description\": \"\"\n      }\n    },\n    {\n      \"column\": \"BATH\",\n      \"properties\": {\n        \"dtype\": \"number\",\n        \"std\": 1.9469616305978465,\n        \"min\": 0.0,\n        \"max\": 50.0,\n        \"num_unique_values\": 22,\n        \"samples\": [\n          2.0,\n          13.0,\n          8.0\n        ],\n        \"semantic_type\": \"\",\n        \"description\": \"\"\n      }\n    },\n    {\n      \"column\": \"PROPERTYSQFT\",\n      \"properties\": {\n        \"dtype\": \"number\",\n        \"std\": 2377.140893559752,\n        \"min\": 230.0,\n        \"max\": 65535.0,\n        \"num_unique_values\": 1445,\n        \"samples\": [\n          2472.0,\n          1445.0,\n          1868.0\n        ],\n        \"semantic_type\": \"\",\n        \"description\": \"\"\n      }\n    },\n    {\n      \"column\": \"ADDRESS\",\n      \"properties\": {\n        \"dtype\": \"string\",\n        \"num_unique_values\": 4582,\n        \"samples\": [\n          \"3671 Hudson Manor Ter Apt 14J\",\n          \"150 W End Ave Apt 5H\",\n          \"220 E 65th St Apt 20B\"\n        ],\n        \"semantic_type\": \"\",\n        \"description\": \"\"\n      }\n    },\n    {\n      \"column\": \"STATE\",\n      \"properties\": {\n        \"dtype\": \"category\",\n        \"num_unique_values\": 308,\n        \"samples\": [\n          \"Jackson Heights, NY 11370\",\n          \"Brooklyn, NY 11230\",\n          \"Manhattan, NY 10010\"\n        ],\n        \"semantic_type\": \"\",\n        \"description\": \"\"\n      }\n    },\n    {\n      \"column\": \"MAIN_ADDRESS\",\n      \"properties\": {\n        \"dtype\": \"string\",\n        \"num_unique_values\": 4583,\n        \"samples\": [\n          \"111 Sunset BlvdBronx, NY 10473\",\n          \"21-16 35th St Unit 1BAstoria, NY 11105\",\n          \"104-02 223rd StQueens Village, NY 11429\"\n        ],\n        \"semantic_type\": \"\",\n        \"description\": \"\"\n      }\n    },\n    {\n      \"column\": \"ADMINISTRATIVE_AREA_LEVEL_2\",\n      \"properties\": {\n        \"dtype\": \"category\",\n        \"num_unique_values\": 29,\n        \"samples\": [\n          \"11237\",\n          \"Queens County\",\n          \"11417\"\n        ],\n        \"semantic_type\": \"\",\n        \"description\": \"\"\n      }\n    },\n    {\n      \"column\": \"LOCALITY\",\n      \"properties\": {\n        \"dtype\": \"category\",\n        \"num_unique_values\": 11,\n        \"samples\": [\n          \"Queens County\",\n          \"New York\",\n          \"Queens\"\n        ],\n        \"semantic_type\": \"\",\n        \"description\": \"\"\n      }\n    },\n    {\n      \"column\": \"SUBLOCALITY\",\n      \"properties\": {\n        \"dtype\": \"category\",\n        \"num_unique_values\": 21,\n        \"samples\": [\n          \"Manhattan\",\n          \"Fort Hamilton\",\n          \"Riverdale\"\n        ],\n        \"semantic_type\": \"\",\n        \"description\": \"\"\n      }\n    },\n    {\n      \"column\": \"STREET_NAME\",\n      \"properties\": {\n        \"dtype\": \"category\",\n        \"num_unique_values\": 174,\n        \"samples\": [\n          \"John Street\",\n          \"Shore Road\",\n          \"Mill Basin\"\n        ],\n        \"semantic_type\": \"\",\n        \"description\": \"\"\n      }\n    },\n    {\n      \"column\": \"LONG_NAME\",\n      \"properties\": {\n        \"dtype\": \"string\",\n        \"num_unique_values\": 2731,\n        \"samples\": [\n          \"205th Place\",\n          \"83-52\",\n          \"1530\"\n        ],\n        \"semantic_type\": \"\",\n        \"description\": \"\"\n      }\n    },\n    {\n      \"column\": \"FORMATTED_ADDRESS\",\n      \"properties\": {\n        \"dtype\": \"string\",\n        \"num_unique_values\": 4550,\n        \"samples\": [\n          \"4410 Cayuga Ave Bsmt B3, Bronx, NY 10471, USA\",\n          \"270-10 Grand Central Pkwy #25k, Little Neck, NY 11362, USA\",\n          \"165 Cromwell Ave #2b, Staten Island, NY 10304, USA\"\n        ],\n        \"semantic_type\": \"\",\n        \"description\": \"\"\n      }\n    },\n    {\n      \"column\": \"LATITUDE\",\n      \"properties\": {\n        \"dtype\": \"number\",\n        \"std\": 0.08767556707715031,\n        \"min\": 40.4995462,\n        \"max\": 40.9127295,\n        \"num_unique_values\": 4196,\n        \"samples\": [\n          40.782238,\n          40.6180243,\n          40.7121557\n        ],\n        \"semantic_type\": \"\",\n        \"description\": \"\"\n      }\n    },\n    {\n      \"column\": \"LONGITUDE\",\n      \"properties\": {\n        \"dtype\": \"number\",\n        \"std\": 0.10108248150173901,\n        \"min\": -74.2530332,\n        \"max\": -73.70245,\n        \"num_unique_values\": 4118,\n        \"samples\": [\n          -73.9071739,\n          -74.017865,\n          -74.0802854\n        ],\n        \"semantic_type\": \"\",\n        \"description\": \"\"\n      }\n    }\n  ]\n}"
            }
          },
          "metadata": {},
          "execution_count": 2
        }
      ]
    },
    {
      "cell_type": "markdown",
      "source": [
        "After taking a look at the data we can see that there are a few errors in the data that need to be cleaned and fixed\n",
        "\n",
        "**Errors in the Data Include:**\n",
        "1. Address Information Redundancy\n",
        "2. Inconsistent State Representation\n",
        "3. Potential Data Entry Errors in BATH Column\n",
        "4. Possible Inconsistencies in Administrative Area Levels\n",
        "\n",
        "**Thing we can fix:**\n",
        "1. Address Simplification\n",
        "2. State and City Information\n",
        "3. Bathroom Count Normalization"
      ],
      "metadata": {
        "id": "jdSBHhiyO3uN"
      }
    },
    {
      "cell_type": "markdown",
      "source": [
        "### Here we are just using the taking the main features using them to clean up the data"
      ],
      "metadata": {
        "id": "_J6L7cTEeSKa"
      }
    },
    {
      "cell_type": "code",
      "source": [
        "# Preliminary cleaning\n",
        "df_cleaned = df[['BROKERTITLE', 'TYPE', 'PRICE', 'BEDS', 'BATH', 'PROPERTYSQFT', 'FORMATTED_ADDRESS', 'LATITUDE', 'LONGITUDE']].copy()\n",
        "df_cleaned['BATH'] = df_cleaned['BATH'].apply(lambda x: round(x * 2) / 2)"
      ],
      "metadata": {
        "id": "HoFE2ZNneeq8"
      },
      "execution_count": 3,
      "outputs": []
    },
    {
      "cell_type": "markdown",
      "source": [
        "We create a function called extract_location_info that takes in an address parameter. It splits it and takes only the necessary features of the address"
      ],
      "metadata": {
        "id": "8enP0KJSemcp"
      }
    },
    {
      "cell_type": "code",
      "source": [
        "# Extract City, State, and ZIP Code\n",
        "def extract_location_info(address):\n",
        "    parts = address.split(',')\n",
        "    if len(parts) > 2:\n",
        "        city = parts[-3].strip()\n",
        "        state_zip = parts[-2].strip().split(' ')\n",
        "        state = state_zip[0]\n",
        "        zip_code = state_zip[1] if len(state_zip) > 1 else None\n",
        "        return city, state, zip_code\n",
        "    return None, None, None"
      ],
      "metadata": {
        "id": "cD-nmaoGhNGY"
      },
      "execution_count": 4,
      "outputs": []
    },
    {
      "cell_type": "markdown",
      "source": [
        "We use the function to clean our address data and apply it to the data base. Then we convert our price property and property sqft to numeric values. The function drop_duplicates and dropna is also used to remove duplicate entries and check missing values and handles them"
      ],
      "metadata": {
        "id": "HQLgXsMFhTW5"
      }
    },
    {
      "cell_type": "code",
      "source": [
        "df_cleaned[['CITY', 'STATE', 'ZIP']] = df_cleaned.apply(lambda row: pd.Series(extract_location_info(row['FORMATTED_ADDRESS'])), axis=1)\n",
        "\n",
        "# Ensure Data Type Consistency\n",
        "df_cleaned['PRICE'] = pd.to_numeric(df_cleaned['PRICE'], errors='coerce')\n",
        "df_cleaned['PROPERTYSQFT'] = pd.to_numeric(df_cleaned['PROPERTYSQFT'], errors='coerce')\n",
        "\n",
        "# Check for and Remove Duplicate Entries\n",
        "df_cleaned.drop_duplicates(subset=['FORMATTED_ADDRESS', 'PRICE', 'BEDS', 'BATH', 'PROPERTYSQFT'], inplace=True)\n",
        "\n",
        "# Checking for missing values in key columns and handling them\n",
        "df_cleaned.dropna(subset=['PRICE', 'BEDS', 'BATH', 'PROPERTYSQFT'], inplace=True)\n",
        "\n",
        "# After cleaning\n",
        "display(df_cleaned.head(100))"
      ],
      "metadata": {
        "colab": {
          "base_uri": "https://localhost:8080/",
          "height": 895
        },
        "id": "4NH0RNVEPBRy",
        "outputId": "7280a906-1278-4ca3-f349-cb12f69fc34c"
      },
      "execution_count": 5,
      "outputs": [
        {
          "output_type": "display_data",
          "data": {
            "text/plain": [
              "                                           BROKERTITLE                TYPE  \\\n",
              "0          Brokered by Douglas Elliman  -111 Fifth Ave      Condo for sale   \n",
              "1                                  Brokered by Serhant      Condo for sale   \n",
              "2                               Brokered by Sowae Corp      House for sale   \n",
              "3                                  Brokered by COMPASS      Condo for sale   \n",
              "4    Brokered by Sotheby's International Realty - E...  Townhouse for sale   \n",
              "..                                                 ...                 ...   \n",
              "96      Brokered by Douglas Elliman - 3544 Johnson Ave      Co-op for sale   \n",
              "97                              Brokered by Sowae Corp      House for sale   \n",
              "98           Brokered by Americas Real Estate Advisors      House for sale   \n",
              "99       Brokered by Douglas Elliman - 575 Madison Ave      House for sale   \n",
              "100                   Brokered by Brown Harris Stevens      Co-op for sale   \n",
              "\n",
              "         PRICE  BEDS  BATH  PROPERTYSQFT  \\\n",
              "0       315000     2   2.0   1400.000000   \n",
              "1    195000000     7  10.0  17545.000000   \n",
              "2       260000     4   2.0   2015.000000   \n",
              "3        69000     3   1.0    445.000000   \n",
              "4     55000000     7   2.5  14175.000000   \n",
              "..         ...   ...   ...           ...   \n",
              "96     1295000     4   2.0   1995.000000   \n",
              "97      245000     3   1.0   2184.207862   \n",
              "98      400000     7   3.0   2385.000000   \n",
              "99    55000000     8   8.0  12000.000000   \n",
              "100     280000     1   1.0   1000.000000   \n",
              "\n",
              "                                     FORMATTED_ADDRESS   LATITUDE  LONGITUDE  \\\n",
              "0    Regis Residence, 2 E 55th St #803, New York, N...  40.761255 -73.974483   \n",
              "1               217 W 57th St, New York, NY 10019, USA  40.766393 -73.980991   \n",
              "2       620 Sinclair Ave, Staten Island, NY 10312, USA  40.541805 -74.196109   \n",
              "3                 2 E 55th St, New York, NY 10022, USA  40.761398 -73.974613   \n",
              "4                 5 E 64th St, New York, NY 10065, USA  40.767224 -73.969856   \n",
              "..                                                 ...        ...        ...   \n",
              "96          2501 Palisade Ave #2, Bronx, NY 10463, USA  40.880987 -73.922434   \n",
              "97              2942 Lurting Ave, Bronx, NY 10469, USA  40.869011 -73.856444   \n",
              "98                340 E 234th St, Bronx, NY 10470, USA  40.896915 -73.865498   \n",
              "99            25 Riverside Dr, New York, NY 10023, USA  40.782238 -73.984632   \n",
              "100       8015 6th Ave Apt A1, Brooklyn, NY 11209, USA  40.624177 -74.021684   \n",
              "\n",
              "              CITY STATE    ZIP  \n",
              "0         New York    NY  10022  \n",
              "1         New York    NY  10019  \n",
              "2    Staten Island    NY  10312  \n",
              "3         New York    NY  10022  \n",
              "4         New York    NY  10065  \n",
              "..             ...   ...    ...  \n",
              "96           Bronx    NY  10463  \n",
              "97           Bronx    NY  10469  \n",
              "98           Bronx    NY  10470  \n",
              "99        New York    NY  10023  \n",
              "100       Brooklyn    NY  11209  \n",
              "\n",
              "[100 rows x 12 columns]"
            ],
            "text/html": [
              "\n",
              "  <div id=\"df-d84bc270-2cdd-42f4-b5c8-ef4d1c5a2125\" class=\"colab-df-container\">\n",
              "    <div>\n",
              "<style scoped>\n",
              "    .dataframe tbody tr th:only-of-type {\n",
              "        vertical-align: middle;\n",
              "    }\n",
              "\n",
              "    .dataframe tbody tr th {\n",
              "        vertical-align: top;\n",
              "    }\n",
              "\n",
              "    .dataframe thead th {\n",
              "        text-align: right;\n",
              "    }\n",
              "</style>\n",
              "<table border=\"1\" class=\"dataframe\">\n",
              "  <thead>\n",
              "    <tr style=\"text-align: right;\">\n",
              "      <th></th>\n",
              "      <th>BROKERTITLE</th>\n",
              "      <th>TYPE</th>\n",
              "      <th>PRICE</th>\n",
              "      <th>BEDS</th>\n",
              "      <th>BATH</th>\n",
              "      <th>PROPERTYSQFT</th>\n",
              "      <th>FORMATTED_ADDRESS</th>\n",
              "      <th>LATITUDE</th>\n",
              "      <th>LONGITUDE</th>\n",
              "      <th>CITY</th>\n",
              "      <th>STATE</th>\n",
              "      <th>ZIP</th>\n",
              "    </tr>\n",
              "  </thead>\n",
              "  <tbody>\n",
              "    <tr>\n",
              "      <th>0</th>\n",
              "      <td>Brokered by Douglas Elliman  -111 Fifth Ave</td>\n",
              "      <td>Condo for sale</td>\n",
              "      <td>315000</td>\n",
              "      <td>2</td>\n",
              "      <td>2.0</td>\n",
              "      <td>1400.000000</td>\n",
              "      <td>Regis Residence, 2 E 55th St #803, New York, N...</td>\n",
              "      <td>40.761255</td>\n",
              "      <td>-73.974483</td>\n",
              "      <td>New York</td>\n",
              "      <td>NY</td>\n",
              "      <td>10022</td>\n",
              "    </tr>\n",
              "    <tr>\n",
              "      <th>1</th>\n",
              "      <td>Brokered by Serhant</td>\n",
              "      <td>Condo for sale</td>\n",
              "      <td>195000000</td>\n",
              "      <td>7</td>\n",
              "      <td>10.0</td>\n",
              "      <td>17545.000000</td>\n",
              "      <td>217 W 57th St, New York, NY 10019, USA</td>\n",
              "      <td>40.766393</td>\n",
              "      <td>-73.980991</td>\n",
              "      <td>New York</td>\n",
              "      <td>NY</td>\n",
              "      <td>10019</td>\n",
              "    </tr>\n",
              "    <tr>\n",
              "      <th>2</th>\n",
              "      <td>Brokered by Sowae Corp</td>\n",
              "      <td>House for sale</td>\n",
              "      <td>260000</td>\n",
              "      <td>4</td>\n",
              "      <td>2.0</td>\n",
              "      <td>2015.000000</td>\n",
              "      <td>620 Sinclair Ave, Staten Island, NY 10312, USA</td>\n",
              "      <td>40.541805</td>\n",
              "      <td>-74.196109</td>\n",
              "      <td>Staten Island</td>\n",
              "      <td>NY</td>\n",
              "      <td>10312</td>\n",
              "    </tr>\n",
              "    <tr>\n",
              "      <th>3</th>\n",
              "      <td>Brokered by COMPASS</td>\n",
              "      <td>Condo for sale</td>\n",
              "      <td>69000</td>\n",
              "      <td>3</td>\n",
              "      <td>1.0</td>\n",
              "      <td>445.000000</td>\n",
              "      <td>2 E 55th St, New York, NY 10022, USA</td>\n",
              "      <td>40.761398</td>\n",
              "      <td>-73.974613</td>\n",
              "      <td>New York</td>\n",
              "      <td>NY</td>\n",
              "      <td>10022</td>\n",
              "    </tr>\n",
              "    <tr>\n",
              "      <th>4</th>\n",
              "      <td>Brokered by Sotheby's International Realty - E...</td>\n",
              "      <td>Townhouse for sale</td>\n",
              "      <td>55000000</td>\n",
              "      <td>7</td>\n",
              "      <td>2.5</td>\n",
              "      <td>14175.000000</td>\n",
              "      <td>5 E 64th St, New York, NY 10065, USA</td>\n",
              "      <td>40.767224</td>\n",
              "      <td>-73.969856</td>\n",
              "      <td>New York</td>\n",
              "      <td>NY</td>\n",
              "      <td>10065</td>\n",
              "    </tr>\n",
              "    <tr>\n",
              "      <th>...</th>\n",
              "      <td>...</td>\n",
              "      <td>...</td>\n",
              "      <td>...</td>\n",
              "      <td>...</td>\n",
              "      <td>...</td>\n",
              "      <td>...</td>\n",
              "      <td>...</td>\n",
              "      <td>...</td>\n",
              "      <td>...</td>\n",
              "      <td>...</td>\n",
              "      <td>...</td>\n",
              "      <td>...</td>\n",
              "    </tr>\n",
              "    <tr>\n",
              "      <th>96</th>\n",
              "      <td>Brokered by Douglas Elliman - 3544 Johnson Ave</td>\n",
              "      <td>Co-op for sale</td>\n",
              "      <td>1295000</td>\n",
              "      <td>4</td>\n",
              "      <td>2.0</td>\n",
              "      <td>1995.000000</td>\n",
              "      <td>2501 Palisade Ave #2, Bronx, NY 10463, USA</td>\n",
              "      <td>40.880987</td>\n",
              "      <td>-73.922434</td>\n",
              "      <td>Bronx</td>\n",
              "      <td>NY</td>\n",
              "      <td>10463</td>\n",
              "    </tr>\n",
              "    <tr>\n",
              "      <th>97</th>\n",
              "      <td>Brokered by Sowae Corp</td>\n",
              "      <td>House for sale</td>\n",
              "      <td>245000</td>\n",
              "      <td>3</td>\n",
              "      <td>1.0</td>\n",
              "      <td>2184.207862</td>\n",
              "      <td>2942 Lurting Ave, Bronx, NY 10469, USA</td>\n",
              "      <td>40.869011</td>\n",
              "      <td>-73.856444</td>\n",
              "      <td>Bronx</td>\n",
              "      <td>NY</td>\n",
              "      <td>10469</td>\n",
              "    </tr>\n",
              "    <tr>\n",
              "      <th>98</th>\n",
              "      <td>Brokered by Americas Real Estate Advisors</td>\n",
              "      <td>House for sale</td>\n",
              "      <td>400000</td>\n",
              "      <td>7</td>\n",
              "      <td>3.0</td>\n",
              "      <td>2385.000000</td>\n",
              "      <td>340 E 234th St, Bronx, NY 10470, USA</td>\n",
              "      <td>40.896915</td>\n",
              "      <td>-73.865498</td>\n",
              "      <td>Bronx</td>\n",
              "      <td>NY</td>\n",
              "      <td>10470</td>\n",
              "    </tr>\n",
              "    <tr>\n",
              "      <th>99</th>\n",
              "      <td>Brokered by Douglas Elliman - 575 Madison Ave</td>\n",
              "      <td>House for sale</td>\n",
              "      <td>55000000</td>\n",
              "      <td>8</td>\n",
              "      <td>8.0</td>\n",
              "      <td>12000.000000</td>\n",
              "      <td>25 Riverside Dr, New York, NY 10023, USA</td>\n",
              "      <td>40.782238</td>\n",
              "      <td>-73.984632</td>\n",
              "      <td>New York</td>\n",
              "      <td>NY</td>\n",
              "      <td>10023</td>\n",
              "    </tr>\n",
              "    <tr>\n",
              "      <th>100</th>\n",
              "      <td>Brokered by Brown Harris Stevens</td>\n",
              "      <td>Co-op for sale</td>\n",
              "      <td>280000</td>\n",
              "      <td>1</td>\n",
              "      <td>1.0</td>\n",
              "      <td>1000.000000</td>\n",
              "      <td>8015 6th Ave Apt A1, Brooklyn, NY 11209, USA</td>\n",
              "      <td>40.624177</td>\n",
              "      <td>-74.021684</td>\n",
              "      <td>Brooklyn</td>\n",
              "      <td>NY</td>\n",
              "      <td>11209</td>\n",
              "    </tr>\n",
              "  </tbody>\n",
              "</table>\n",
              "<p>100 rows × 12 columns</p>\n",
              "</div>\n",
              "    <div class=\"colab-df-buttons\">\n",
              "\n",
              "  <div class=\"colab-df-container\">\n",
              "    <button class=\"colab-df-convert\" onclick=\"convertToInteractive('df-d84bc270-2cdd-42f4-b5c8-ef4d1c5a2125')\"\n",
              "            title=\"Convert this dataframe to an interactive table.\"\n",
              "            style=\"display:none;\">\n",
              "\n",
              "  <svg xmlns=\"http://www.w3.org/2000/svg\" height=\"24px\" viewBox=\"0 -960 960 960\">\n",
              "    <path d=\"M120-120v-720h720v720H120Zm60-500h600v-160H180v160Zm220 220h160v-160H400v160Zm0 220h160v-160H400v160ZM180-400h160v-160H180v160Zm440 0h160v-160H620v160ZM180-180h160v-160H180v160Zm440 0h160v-160H620v160Z\"/>\n",
              "  </svg>\n",
              "    </button>\n",
              "\n",
              "  <style>\n",
              "    .colab-df-container {\n",
              "      display:flex;\n",
              "      gap: 12px;\n",
              "    }\n",
              "\n",
              "    .colab-df-convert {\n",
              "      background-color: #E8F0FE;\n",
              "      border: none;\n",
              "      border-radius: 50%;\n",
              "      cursor: pointer;\n",
              "      display: none;\n",
              "      fill: #1967D2;\n",
              "      height: 32px;\n",
              "      padding: 0 0 0 0;\n",
              "      width: 32px;\n",
              "    }\n",
              "\n",
              "    .colab-df-convert:hover {\n",
              "      background-color: #E2EBFA;\n",
              "      box-shadow: 0px 1px 2px rgba(60, 64, 67, 0.3), 0px 1px 3px 1px rgba(60, 64, 67, 0.15);\n",
              "      fill: #174EA6;\n",
              "    }\n",
              "\n",
              "    .colab-df-buttons div {\n",
              "      margin-bottom: 4px;\n",
              "    }\n",
              "\n",
              "    [theme=dark] .colab-df-convert {\n",
              "      background-color: #3B4455;\n",
              "      fill: #D2E3FC;\n",
              "    }\n",
              "\n",
              "    [theme=dark] .colab-df-convert:hover {\n",
              "      background-color: #434B5C;\n",
              "      box-shadow: 0px 1px 3px 1px rgba(0, 0, 0, 0.15);\n",
              "      filter: drop-shadow(0px 1px 2px rgba(0, 0, 0, 0.3));\n",
              "      fill: #FFFFFF;\n",
              "    }\n",
              "  </style>\n",
              "\n",
              "    <script>\n",
              "      const buttonEl =\n",
              "        document.querySelector('#df-d84bc270-2cdd-42f4-b5c8-ef4d1c5a2125 button.colab-df-convert');\n",
              "      buttonEl.style.display =\n",
              "        google.colab.kernel.accessAllowed ? 'block' : 'none';\n",
              "\n",
              "      async function convertToInteractive(key) {\n",
              "        const element = document.querySelector('#df-d84bc270-2cdd-42f4-b5c8-ef4d1c5a2125');\n",
              "        const dataTable =\n",
              "          await google.colab.kernel.invokeFunction('convertToInteractive',\n",
              "                                                    [key], {});\n",
              "        if (!dataTable) return;\n",
              "\n",
              "        const docLinkHtml = 'Like what you see? Visit the ' +\n",
              "          '<a target=\"_blank\" href=https://colab.research.google.com/notebooks/data_table.ipynb>data table notebook</a>'\n",
              "          + ' to learn more about interactive tables.';\n",
              "        element.innerHTML = '';\n",
              "        dataTable['output_type'] = 'display_data';\n",
              "        await google.colab.output.renderOutput(dataTable, element);\n",
              "        const docLink = document.createElement('div');\n",
              "        docLink.innerHTML = docLinkHtml;\n",
              "        element.appendChild(docLink);\n",
              "      }\n",
              "    </script>\n",
              "  </div>\n",
              "\n",
              "\n",
              "<div id=\"df-0424bc2e-088a-44cd-a85b-c7d93aaa0ab9\">\n",
              "  <button class=\"colab-df-quickchart\" onclick=\"quickchart('df-0424bc2e-088a-44cd-a85b-c7d93aaa0ab9')\"\n",
              "            title=\"Suggest charts\"\n",
              "            style=\"display:none;\">\n",
              "\n",
              "<svg xmlns=\"http://www.w3.org/2000/svg\" height=\"24px\"viewBox=\"0 0 24 24\"\n",
              "     width=\"24px\">\n",
              "    <g>\n",
              "        <path d=\"M19 3H5c-1.1 0-2 .9-2 2v14c0 1.1.9 2 2 2h14c1.1 0 2-.9 2-2V5c0-1.1-.9-2-2-2zM9 17H7v-7h2v7zm4 0h-2V7h2v10zm4 0h-2v-4h2v4z\"/>\n",
              "    </g>\n",
              "</svg>\n",
              "  </button>\n",
              "\n",
              "<style>\n",
              "  .colab-df-quickchart {\n",
              "      --bg-color: #E8F0FE;\n",
              "      --fill-color: #1967D2;\n",
              "      --hover-bg-color: #E2EBFA;\n",
              "      --hover-fill-color: #174EA6;\n",
              "      --disabled-fill-color: #AAA;\n",
              "      --disabled-bg-color: #DDD;\n",
              "  }\n",
              "\n",
              "  [theme=dark] .colab-df-quickchart {\n",
              "      --bg-color: #3B4455;\n",
              "      --fill-color: #D2E3FC;\n",
              "      --hover-bg-color: #434B5C;\n",
              "      --hover-fill-color: #FFFFFF;\n",
              "      --disabled-bg-color: #3B4455;\n",
              "      --disabled-fill-color: #666;\n",
              "  }\n",
              "\n",
              "  .colab-df-quickchart {\n",
              "    background-color: var(--bg-color);\n",
              "    border: none;\n",
              "    border-radius: 50%;\n",
              "    cursor: pointer;\n",
              "    display: none;\n",
              "    fill: var(--fill-color);\n",
              "    height: 32px;\n",
              "    padding: 0;\n",
              "    width: 32px;\n",
              "  }\n",
              "\n",
              "  .colab-df-quickchart:hover {\n",
              "    background-color: var(--hover-bg-color);\n",
              "    box-shadow: 0 1px 2px rgba(60, 64, 67, 0.3), 0 1px 3px 1px rgba(60, 64, 67, 0.15);\n",
              "    fill: var(--button-hover-fill-color);\n",
              "  }\n",
              "\n",
              "  .colab-df-quickchart-complete:disabled,\n",
              "  .colab-df-quickchart-complete:disabled:hover {\n",
              "    background-color: var(--disabled-bg-color);\n",
              "    fill: var(--disabled-fill-color);\n",
              "    box-shadow: none;\n",
              "  }\n",
              "\n",
              "  .colab-df-spinner {\n",
              "    border: 2px solid var(--fill-color);\n",
              "    border-color: transparent;\n",
              "    border-bottom-color: var(--fill-color);\n",
              "    animation:\n",
              "      spin 1s steps(1) infinite;\n",
              "  }\n",
              "\n",
              "  @keyframes spin {\n",
              "    0% {\n",
              "      border-color: transparent;\n",
              "      border-bottom-color: var(--fill-color);\n",
              "      border-left-color: var(--fill-color);\n",
              "    }\n",
              "    20% {\n",
              "      border-color: transparent;\n",
              "      border-left-color: var(--fill-color);\n",
              "      border-top-color: var(--fill-color);\n",
              "    }\n",
              "    30% {\n",
              "      border-color: transparent;\n",
              "      border-left-color: var(--fill-color);\n",
              "      border-top-color: var(--fill-color);\n",
              "      border-right-color: var(--fill-color);\n",
              "    }\n",
              "    40% {\n",
              "      border-color: transparent;\n",
              "      border-right-color: var(--fill-color);\n",
              "      border-top-color: var(--fill-color);\n",
              "    }\n",
              "    60% {\n",
              "      border-color: transparent;\n",
              "      border-right-color: var(--fill-color);\n",
              "    }\n",
              "    80% {\n",
              "      border-color: transparent;\n",
              "      border-right-color: var(--fill-color);\n",
              "      border-bottom-color: var(--fill-color);\n",
              "    }\n",
              "    90% {\n",
              "      border-color: transparent;\n",
              "      border-bottom-color: var(--fill-color);\n",
              "    }\n",
              "  }\n",
              "</style>\n",
              "\n",
              "  <script>\n",
              "    async function quickchart(key) {\n",
              "      const quickchartButtonEl =\n",
              "        document.querySelector('#' + key + ' button');\n",
              "      quickchartButtonEl.disabled = true;  // To prevent multiple clicks.\n",
              "      quickchartButtonEl.classList.add('colab-df-spinner');\n",
              "      try {\n",
              "        const charts = await google.colab.kernel.invokeFunction(\n",
              "            'suggestCharts', [key], {});\n",
              "      } catch (error) {\n",
              "        console.error('Error during call to suggestCharts:', error);\n",
              "      }\n",
              "      quickchartButtonEl.classList.remove('colab-df-spinner');\n",
              "      quickchartButtonEl.classList.add('colab-df-quickchart-complete');\n",
              "    }\n",
              "    (() => {\n",
              "      let quickchartButtonEl =\n",
              "        document.querySelector('#df-0424bc2e-088a-44cd-a85b-c7d93aaa0ab9 button');\n",
              "      quickchartButtonEl.style.display =\n",
              "        google.colab.kernel.accessAllowed ? 'block' : 'none';\n",
              "    })();\n",
              "  </script>\n",
              "</div>\n",
              "    </div>\n",
              "  </div>\n"
            ],
            "application/vnd.google.colaboratory.intrinsic+json": {
              "type": "dataframe",
              "summary": "{\n  \"name\": \"display(df_cleaned\",\n  \"rows\": 100,\n  \"fields\": [\n    {\n      \"column\": \"BROKERTITLE\",\n      \"properties\": {\n        \"dtype\": \"string\",\n        \"num_unique_values\": 70,\n        \"samples\": [\n          \"Brokered by Elizabeth Marra\",\n          \"Brokered by Douglas Elliman  -111 Fifth Ave\",\n          \"Brokered by Brown Harris Stevens - 445 Park Avenue\"\n        ],\n        \"semantic_type\": \"\",\n        \"description\": \"\"\n      }\n    },\n    {\n      \"column\": \"TYPE\",\n      \"properties\": {\n        \"dtype\": \"category\",\n        \"num_unique_values\": 10,\n        \"samples\": [\n          \"Foreclosure\",\n          \"House for sale\",\n          \"For sale\"\n        ],\n        \"semantic_type\": \"\",\n        \"description\": \"\"\n      }\n    },\n    {\n      \"column\": \"PRICE\",\n      \"properties\": {\n        \"dtype\": \"number\",\n        \"std\": 21822965,\n        \"min\": 69000,\n        \"max\": 195000000,\n        \"num_unique_values\": 92,\n        \"samples\": [\n          1280000,\n          1100000,\n          3150000\n        ],\n        \"semantic_type\": \"\",\n        \"description\": \"\"\n      }\n    },\n    {\n      \"column\": \"BEDS\",\n      \"properties\": {\n        \"dtype\": \"number\",\n        \"std\": 2,\n        \"min\": 1,\n        \"max\": 12,\n        \"num_unique_values\": 12,\n        \"samples\": [\n          11,\n          10,\n          2\n        ],\n        \"semantic_type\": \"\",\n        \"description\": \"\"\n      }\n    },\n    {\n      \"column\": \"BATH\",\n      \"properties\": {\n        \"dtype\": \"number\",\n        \"std\": 2.0997594859864073,\n        \"min\": 1.0,\n        \"max\": 16.0,\n        \"num_unique_values\": 10,\n        \"samples\": [\n          8.0,\n          10.0,\n          3.0\n        ],\n        \"semantic_type\": \"\",\n        \"description\": \"\"\n      }\n    },\n    {\n      \"column\": \"PROPERTYSQFT\",\n      \"properties\": {\n        \"dtype\": \"number\",\n        \"std\": 4104.92625814327,\n        \"min\": 325.0,\n        \"max\": 33000.0,\n        \"num_unique_values\": 72,\n        \"samples\": [\n          14175.0,\n          3384.0,\n          1244.0\n        ],\n        \"semantic_type\": \"\",\n        \"description\": \"\"\n      }\n    },\n    {\n      \"column\": \"FORMATTED_ADDRESS\",\n      \"properties\": {\n        \"dtype\": \"string\",\n        \"num_unique_values\": 99,\n        \"samples\": [\n          \"150 Rivington St #3g, New York, NY 10002, USA\",\n          \"2226 63rd St, Brooklyn, NY 11204, USA\",\n          \"2942 Lurting Ave, Bronx, NY 10469, USA\"\n        ],\n        \"semantic_type\": \"\",\n        \"description\": \"\"\n      }\n    },\n    {\n      \"column\": \"LATITUDE\",\n      \"properties\": {\n        \"dtype\": \"number\",\n        \"std\": 0.09384000506166364,\n        \"min\": 40.5016233,\n        \"max\": 40.9073699,\n        \"num_unique_values\": 98,\n        \"samples\": [\n          40.7193408,\n          40.614446,\n          40.8690109\n        ],\n        \"semantic_type\": \"\",\n        \"description\": \"\"\n      }\n    },\n    {\n      \"column\": \"LONGITUDE\",\n      \"properties\": {\n        \"dtype\": \"number\",\n        \"std\": 0.11312974300579406,\n        \"min\": -74.2417531,\n        \"max\": -73.7354706,\n        \"num_unique_values\": 98,\n        \"samples\": [\n          -73.9856438,\n          -73.9795824,\n          -73.8564445\n        ],\n        \"semantic_type\": \"\",\n        \"description\": \"\"\n      }\n    },\n    {\n      \"column\": \"CITY\",\n      \"properties\": {\n        \"dtype\": \"category\",\n        \"num_unique_values\": 13,\n        \"samples\": [\n          \"Woodhaven\",\n          \"Jackson Heights\",\n          \"New York\"\n        ],\n        \"semantic_type\": \"\",\n        \"description\": \"\"\n      }\n    },\n    {\n      \"column\": \"STATE\",\n      \"properties\": {\n        \"dtype\": \"category\",\n        \"num_unique_values\": 1,\n        \"samples\": [\n          \"NY\"\n        ],\n        \"semantic_type\": \"\",\n        \"description\": \"\"\n      }\n    },\n    {\n      \"column\": \"ZIP\",\n      \"properties\": {\n        \"dtype\": \"string\",\n        \"num_unique_values\": 62,\n        \"samples\": [\n          \"10466\"\n        ],\n        \"semantic_type\": \"\",\n        \"description\": \"\"\n      }\n    }\n  ]\n}"
            }
          },
          "metadata": {}
        }
      ]
    },
    {
      "cell_type": "markdown",
      "source": [
        "---\n",
        "# Part 2: Exploratory Data Analysis\n",
        "\n",
        "Going forward, we have decided to set an alpha value = 0.05 for all tests to keep a standard."
      ],
      "metadata": {
        "id": "iRWyPBvufGJv"
      }
    },
    {
      "cell_type": "markdown",
      "source": [
        "## **Analyzing Question I**\n",
        "\n",
        "**Null Hypothesis:** The ***type*** has an effect on the ***price***.\n",
        "\n",
        "We decided to utilize an ANOVA test in order to find the statisitcal significance in the variance between the means of the prices of the different categories of housing."
      ],
      "metadata": {
        "id": "GVP5wu-PfWvo"
      }
    },
    {
      "cell_type": "code",
      "source": [
        "# Filter the dataset to include only the main property types\n",
        "main_property_types = ['Co-op for sale', 'House for sale', 'Condo for sale', 'Multi-family home for sale', 'Townhouse for sale']\n",
        "df_filtered = df_cleaned[df_cleaned['TYPE'].isin(main_property_types)]\n",
        "\n",
        "# Perform ANOVA to compare the prices across different property types\n",
        "anova_result = stats.f_oneway(\n",
        "    df_filtered[df_filtered['TYPE'] == 'Co-op for sale']['PRICE'],\n",
        "    df_filtered[df_filtered['TYPE'] == 'House for sale']['PRICE'],\n",
        "    df_filtered[df_filtered['TYPE'] == 'Condo for sale']['PRICE'],\n",
        "    df_filtered[df_filtered['TYPE'] == 'Multi-family home for sale']['PRICE'],\n",
        "    df_filtered[df_filtered['TYPE'] == 'Townhouse for sale']['PRICE']\n",
        ")\n",
        "\n",
        "print(f\"ANOVA test statistic: {anova_result.statistic}\")\n",
        "print(f\"p-value: {anova_result.pvalue}\")"
      ],
      "metadata": {
        "colab": {
          "base_uri": "https://localhost:8080/"
        },
        "id": "_s7cKogiSIIz",
        "outputId": "cd05c0ae-9c87-40a5-8495-25fae75f0107"
      },
      "execution_count": 6,
      "outputs": [
        {
          "output_type": "stream",
          "name": "stdout",
          "text": [
            "ANOVA test statistic: 2.0333571714924368\n",
            "p-value: 0.08701901255279075\n"
          ]
        }
      ]
    },
    {
      "cell_type": "markdown",
      "source": [
        "### Conclusion for Question I\n",
        "\n",
        "We fail to reject this hypothesis because we can see that it is greater than our p value is greater than the alpha value."
      ],
      "metadata": {
        "id": "_H4uDl7RUFaS"
      }
    },
    {
      "cell_type": "markdown",
      "source": [
        "### Visualizing our Conclusion\n",
        "\n",
        "We decided to use a box & whiskers plot in order to better visualize the differences in the conclusions.\n"
      ],
      "metadata": {
        "id": "oIBNjcnxg_EB"
      }
    },
    {
      "cell_type": "code",
      "source": [
        "# Setting the aesthetic style of the plots\n",
        "sns.set_style(\"whitegrid\")\n",
        "\n",
        "# Create a boxplot to visualize the distribution of prices for each property type\n",
        "plt.figure(figsize=(12, 8))\n",
        "sns.boxplot(x='TYPE', y='PRICE', data=df_filtered, order=main_property_types)\n",
        "plt.title('Price Distribution by Property Type')\n",
        "plt.xlabel('Property Type')\n",
        "plt.ylabel('Price')\n",
        "plt.xticks(rotation=45)\n",
        "plt.yscale('log')  # Using a logarithmic scale for better visualization of wide price ranges\n",
        "plt.tight_layout()\n",
        "\n",
        "# Show the plot\n",
        "plt.show()"
      ],
      "metadata": {
        "colab": {
          "base_uri": "https://localhost:8080/",
          "height": 681
        },
        "id": "XB0emdQiUD5q",
        "outputId": "bd86e4c6-1d21-49c0-a2bd-53cd54e1c3a0"
      },
      "execution_count": 7,
      "outputs": [
        {
          "output_type": "display_data",
          "data": {
            "text/plain": [
              "<Figure size 1200x800 with 1 Axes>"
            ],
            "image/png": "[encoded data removed]"
          },
          "metadata": {}
        }
      ]
    },
    {
      "cell_type": "markdown",
      "source": [
        "### Understanding our Conclusion\n",
        "\n",
        "In the plot we can see that there is a good bit of variability in the price distributions and the types as well too. We can make a few observations from the boxplot.\n",
        "\n",
        "**Some key features**\n",
        "- Price Variability - We can see that there is a good bit of range for the property types. This shows the diverse market conditions of the different properties\n",
        "- Price Medians - The price medians from the different house categories varies significantly. This can indicate buyers looking for different properties can expect to pay more\n",
        "- Outliers - These outliers present, especially in townhouses and condos, indicate the existence of luxurious properties that skew the average price\n",
        "- Spread of the prices - The spread varies a lot across properties where wide ones suggest more varability in pricing and narrow boxes represnt more uniform pricing\n",
        "\n",
        "**Real World Implicatations**\n",
        "- Pricing Strategy - Using this visualization we can see the distrubition of prices for properties. This can help sellers list at competitive prices and help buyers see if it the price is reasonable\n",
        "- Investment Decisions - Buyers can see which properties offer potential for the highest return and can invest\n",
        "\n"
      ],
      "metadata": {
        "id": "7878PxoCjdv_"
      }
    },
    {
      "cell_type": "markdown",
      "source": [
        "## **Analyzing Question II**\n",
        "\n",
        "**Null Hypothesis:** The ***location*** has an effect on the ***type***\n",
        "\n",
        "We can use a Chi-Square test to determine if a location in New York has an influence on the type of property that is available. This test will look at the different types of housing across various cities to see if distrubition is uniform or significantly different. We will use the city and type from the contingency.\n"
      ],
      "metadata": {
        "id": "OoqhK3LzVvf2"
      }
    },
    {
      "cell_type": "code",
      "source": [
        "from scipy.stats import chi2_contingency\n",
        "\n",
        "# Creating a contingency table for \"CITY\" and \"TYPE\"\n",
        "contingency_table = pd.crosstab(df_cleaned['CITY'], df_cleaned['TYPE'])\n",
        "\n",
        "# Performing the Chi-square test of independence\n",
        "_, p_value, _, _ = chi2_contingency(contingency_table)\n",
        "\n",
        "print(p_value)"
      ],
      "metadata": {
        "id": "H2yaFPWcVyt6",
        "outputId": "d75c6ed4-200a-4ac5-eba7-3f65c7f8e3bc",
        "colab": {
          "base_uri": "https://localhost:8080/"
        }
      },
      "execution_count": 8,
      "outputs": [
        {
          "output_type": "stream",
          "name": "stdout",
          "text": [
            "1.4430841991519135e-222\n"
          ]
        }
      ]
    },
    {
      "cell_type": "markdown",
      "source": [
        "### Results\n",
        "\n",
        "With the extremly low p-value that is far lesser than our chosen alpha value of 0.05, we choose to reject the null hypothesis that the CITY has an effect on the TYPE. This can suggest that the type of property is affected by the city or the region and we can see that the location does have a significant effect on the property type."
      ],
      "metadata": {
        "id": "btpij3VOV4Xa"
      }
    },
    {
      "cell_type": "markdown",
      "source": [
        "### Visualization\n",
        "The best graph to use here is a bar graph that will best show the distirubtion of the house types across the type the top 10 cities. The visualization supports our test result because each city shows a unique profile in terms of property types."
      ],
      "metadata": {
        "id": "tvUMWTs25uyb"
      }
    },
    {
      "cell_type": "code",
      "source": [
        "import matplotlib.pyplot as plt\n",
        "import seaborn as sns\n",
        "\n",
        "# Limiting the data to the top 10 cities by frequency to keep the chart readable\n",
        "top_cities = df_cleaned['CITY'].value_counts().head(10).index\n",
        "\n",
        "# Further limiting the data to the top house types for visualization\n",
        "top_types = df_cleaned['TYPE'].value_counts().head(5).index\n",
        "\n",
        "# Filtering the DataFrame to include only rows that match the top cities and types\n",
        "filtered_df = df_cleaned[df_cleaned['CITY'].isin(top_cities) & df_cleaned['TYPE'].isin(top_types)]\n",
        "\n",
        "# Creating the plot\n",
        "plt.figure(figsize=(14, 8))\n",
        "sns.countplot(data=filtered_df, x='CITY', hue='TYPE', order=top_cities, hue_order=top_types)\n",
        "plt.title('Distribution of House Types Across Top 10 Cities')\n",
        "plt.xticks(rotation=45)\n",
        "plt.xlabel('City')\n",
        "plt.ylabel('Count')\n",
        "plt.legend(title='House Type', bbox_to_anchor=(1.05, 1), loc='upper left')\n",
        "\n",
        "plt.tight_layout()\n",
        "plt.show()"
      ],
      "metadata": {
        "id": "CZbfg6_MVzzQ",
        "colab": {
          "base_uri": "https://localhost:8080/",
          "height": 586
        },
        "outputId": "38b22565-e5d3-41b7-846f-10b6f2d48fb1"
      },
      "execution_count": 9,
      "outputs": [
        {
          "output_type": "display_data",
          "data": {
            "text/plain": [
              "<Figure size 1400x800 with 1 Axes>"
            ],
            "image/png": "[encoded data removed]"
          },
          "metadata": {}
        }
      ]
    },
    {
      "cell_type": "markdown",
      "source": [
        "### Understanding our conclusion\n",
        "\n",
        "We can see that the Chi-Square test showed a significant relationship between the city and type of property. We can see that it means different cities or boroughs within New York have unique profiles with the properties they have.\n",
        "\n",
        "**Some of the main key points we can conclude are:**\n",
        "\n",
        "- City-Specific Property Profiles -\n",
        "The boroughs in New York and Brooklyn showcase the wide range of property types. This indicate the high-density urban nature. Other areas like Staten Island and Bronx display a higher amount of houses and multi-houses that conclude that these areas have more space and lower real-estate prices which can house larger properties\n",
        "\n"
      ],
      "metadata": {
        "id": "PbEwbdxo64hH"
      }
    },
    {
      "cell_type": "code",
      "source": [
        "from scipy.stats import norm\n",
        "\n",
        "# Assuming population_mean and population_std are known\n",
        "population_mean = 500000  # Hypothetical national average price\n",
        "population_std = 150000   # Known standard deviation of national prices\n",
        "\n",
        "# Filter the dataset for a specific category (e.g., condos)\n",
        "sample_data = df_cleaned[df_cleaned['TYPE'] == 'Condo for sale']\n",
        "sample_mean = sample_data['PRICE'].mean()\n",
        "sample_size = len(sample_data)\n",
        "\n",
        "# Calculate the Z-score\n",
        "z_score = (sample_mean - population_mean) / (population_std / (sample_size**0.5))\n",
        "\n",
        "# Calculate the p-value for a two-tailed test\n",
        "p_value = 2 * norm.sf(abs(z_score))\n",
        "\n",
        "print(f\"Sample Mean: {sample_mean}, Sample Size: {sample_size}, Z-Score: {z_score}, P-Value: {p_value}\")\n"
      ],
      "metadata": {
        "colab": {
          "base_uri": "https://localhost:8080/"
        },
        "id": "nSTmwoAWWwM5",
        "outputId": "ec500768-8f0a-486d-aa32-9d3db310eecf"
      },
      "execution_count": 10,
      "outputs": [
        {
          "output_type": "stream",
          "name": "stdout",
          "text": [
            "Sample Mean: 2615780.1448931117, Sample Size: 842, Z-Score: 409.29394888287743, P-Value: 0.0\n"
          ]
        }
      ]
    },
    {
      "cell_type": "markdown",
      "source": [
        "We can reject the null hypothesis because the z score is extremely high and far beyond the typical critical values for common significance levels. This indicates a very strong deviation from the null hypothesis."
      ],
      "metadata": {
        "id": "_7QP3GnKXFW1"
      }
    },
    {
      "cell_type": "code",
      "source": [
        "# Assume population_mean, population_std, and sample_mean are defined\n",
        "population_dist = np.random.normal(population_mean, population_std, 10000)\n",
        "\n",
        "# Plotting\n",
        "plt.figure(figsize=(10, 6))\n",
        "sns.histplot(population_dist, kde=True, stat='density', label='Population Distribution')\n",
        "plt.axvline(x=population_mean, color='green', linestyle='--', label='Population Mean ($500,000)')\n",
        "plt.axvline(x=sample_mean, color='red', linestyle='-', label=f'Sample Mean (${sample_mean:,.2f})')\n",
        "\n",
        "# Marking critical regions for alpha = 0.05 in a two-tailed test\n",
        "plt.axvline(x=population_mean + 1.96 * population_std / np.sqrt(sample_size), color='black', linestyle='--', label='Critical Value (+1.96)')\n",
        "plt.axvline(x=population_mean - 1.96 * population_std / np.sqrt(sample_size), color='black', linestyle='--', label='Critical Value (-1.96)')\n",
        "\n",
        "plt.title('Population Distribution with Sample Mean')\n",
        "plt.xlabel('Price')\n",
        "plt.ylabel('Density')\n",
        "plt.legend()\n",
        "plt.show()"
      ],
      "metadata": {
        "colab": {
          "base_uri": "https://localhost:8080/",
          "height": 564
        },
        "id": "O_3t-CQTXZiM",
        "outputId": "8486c88f-4fef-4c40-95d3-dcc95afdc272"
      },
      "execution_count": 11,
      "outputs": [
        {
          "output_type": "display_data",
          "data": {
            "text/plain": [
              "<Figure size 1000x600 with 1 Axes>"
            ],
            "image/png": "[encoded data removed]"
          },
          "metadata": {}
        }
      ]
    },
    {
      "cell_type": "markdown",
      "source": [
        "---\n",
        "# Part 3: ML Algorithm & Design\n",
        "We have decided to utilize the Random Forest Regressor model. This model is robust to outliers, handles both linear and non-linear relationships well, and is easy to use in terms of interpreting the results. Random Forest can also effectively handle the multiple outputs we have in our target (PRICE, PROPERTYSQFT, BEDS, BATH), making it a good fit for predicting a best housing option."
      ],
      "metadata": {
        "id": "gBZkX6DXY0nC"
      }
    },
    {
      "cell_type": "code",
      "source": [
        "import folium\n",
        "import pandas as pd\n",
        "from sklearn.model_selection import train_test_split\n",
        "from sklearn.preprocessing import StandardScaler\n",
        "from sklearn.ensemble import RandomForestRegressor\n",
        "from sklearn.metrics import mean_squared_error, r2_score"
      ],
      "metadata": {
        "id": "8Gap2drTcstE"
      },
      "execution_count": 32,
      "outputs": []
    },
    {
      "cell_type": "code",
      "source": [
        "features = df_cleaned[['PRICE', 'BEDS', 'BATH', 'PROPERTYSQFT']]\n",
        "target = df_cleaned[['PRICE', 'PROPERTYSQFT', 'BEDS', 'BATH']]\n",
        "scaler = StandardScaler()\n",
        "features_scaled = scaler.fit_transform(features)"
      ],
      "metadata": {
        "id": "v45D8b8mct0a"
      },
      "execution_count": 14,
      "outputs": []
    },
    {
      "cell_type": "code",
      "source": [
        "# Split data\n",
        "X_train, X_test, y_train, y_test = train_test_split(features_scaled, target, test_size=0.2, random_state=42)"
      ],
      "metadata": {
        "id": "mZjswKBoc-EQ"
      },
      "execution_count": 15,
      "outputs": []
    },
    {
      "cell_type": "markdown",
      "source": [
        "We have scaled the features and split the data into training and testing sets. We'll now use these to fit our model."
      ],
      "metadata": {
        "id": "KLnSZiKiiNSY"
      }
    },
    {
      "cell_type": "code",
      "source": [
        "# Initialize and train the Random Forest Regressor\n",
        "rf_regressor = RandomForestRegressor(n_estimators=100, random_state=42)\n",
        "rf_regressor.fit(X_train, y_train)"
      ],
      "metadata": {
        "colab": {
          "base_uri": "https://localhost:8080/",
          "height": 74
        },
        "id": "O4BVPtPgdCOm",
        "outputId": "89892b6e-c063-4597-b384-cd743212c27b"
      },
      "execution_count": 16,
      "outputs": [
        {
          "output_type": "execute_result",
          "data": {
            "text/plain": [
              "RandomForestRegressor(random_state=42)"
            ],
            "text/html": [
              "<style>#sk-container-id-1 {color: black;background-color: white;}#sk-container-id-1 pre{padding: 0;}#sk-container-id-1 div.sk-toggleable {background-color: white;}#sk-container-id-1 label.sk-toggleable__label {cursor: pointer;display: block;width: 100%;margin-bottom: 0;padding: 0.3em;box-sizing: border-box;text-align: center;}#sk-container-id-1 label.sk-toggleable__label-arrow:before {content: \"▸\";float: left;margin-right: 0.25em;color: #696969;}#sk-container-id-1 label.sk-toggleable__label-arrow:hover:before {color: black;}#sk-container-id-1 div.sk-estimator:hover label.sk-toggleable__label-arrow:before {color: black;}#sk-container-id-1 div.sk-toggleable__content {max-height: 0;max-width: 0;overflow: hidden;text-align: left;background-color: #f0f8ff;}#sk-container-id-1 div.sk-toggleable__content pre {margin: 0.2em;color: black;border-radius: 0.25em;background-color: #f0f8ff;}#sk-container-id-1 input.sk-toggleable__control:checked~div.sk-toggleable__content {max-height: 200px;max-width: 100%;overflow: auto;}#sk-container-id-1 input.sk-toggleable__control:checked~label.sk-toggleable__label-arrow:before {content: \"▾\";}#sk-container-id-1 div.sk-estimator input.sk-toggleable__control:checked~label.sk-toggleable__label {background-color: #d4ebff;}#sk-container-id-1 div.sk-label input.sk-toggleable__control:checked~label.sk-toggleable__label {background-color: #d4ebff;}#sk-container-id-1 input.sk-hidden--visually {border: 0;clip: rect(1px 1px 1px 1px);clip: rect(1px, 1px, 1px, 1px);height: 1px;margin: -1px;overflow: hidden;padding: 0;position: absolute;width: 1px;}#sk-container-id-1 div.sk-estimator {font-family: monospace;background-color: #f0f8ff;border: 1px dotted black;border-radius: 0.25em;box-sizing: border-box;margin-bottom: 0.5em;}#sk-container-id-1 div.sk-estimator:hover {background-color: #d4ebff;}#sk-container-id-1 div.sk-parallel-item::after {content: \"\";width: 100%;border-bottom: 1px solid gray;flex-grow: 1;}#sk-container-id-1 div.sk-label:hover label.sk-toggleable__label {background-color: #d4ebff;}#sk-container-id-1 div.sk-serial::before {content: \"\";position: absolute;border-left: 1px solid gray;box-sizing: border-box;top: 0;bottom: 0;left: 50%;z-index: 0;}#sk-container-id-1 div.sk-serial {display: flex;flex-direction: column;align-items: center;background-color: white;padding-right: 0.2em;padding-left: 0.2em;position: relative;}#sk-container-id-1 div.sk-item {position: relative;z-index: 1;}#sk-container-id-1 div.sk-parallel {display: flex;align-items: stretch;justify-content: center;background-color: white;position: relative;}#sk-container-id-1 div.sk-item::before, #sk-container-id-1 div.sk-parallel-item::before {content: \"\";position: absolute;border-left: 1px solid gray;box-sizing: border-box;top: 0;bottom: 0;left: 50%;z-index: -1;}#sk-container-id-1 div.sk-parallel-item {display: flex;flex-direction: column;z-index: 1;position: relative;background-color: white;}#sk-container-id-1 div.sk-parallel-item:first-child::after {align-self: flex-end;width: 50%;}#sk-container-id-1 div.sk-parallel-item:last-child::after {align-self: flex-start;width: 50%;}#sk-container-id-1 div.sk-parallel-item:only-child::after {width: 0;}#sk-container-id-1 div.sk-dashed-wrapped {border: 1px dashed gray;margin: 0 0.4em 0.5em 0.4em;box-sizing: border-box;padding-bottom: 0.4em;background-color: white;}#sk-container-id-1 div.sk-label label {font-family: monospace;font-weight: bold;display: inline-block;line-height: 1.2em;}#sk-container-id-1 div.sk-label-container {text-align: center;}#sk-container-id-1 div.sk-container {/* jupyter's `normalize.less` sets `[hidden] { display: none; }` but bootstrap.min.css set `[hidden] { display: none !important; }` so we also need the `!important` here to be able to override the default hidden behavior on the sphinx rendered scikit-learn.org. See: https://github.com/scikit-learn/scikit-learn/issues/21755 */display: inline-block !important;position: relative;}#sk-container-id-1 div.sk-text-repr-fallback {display: none;}</style><div id=\"sk-container-id-1\" class=\"sk-top-container\"><div class=\"sk-text-repr-fallback\"><pre>RandomForestRegressor(random_state=42)</pre><b>In a Jupyter environment, please rerun this cell to show the HTML representation or trust the notebook. <br />On GitHub, the HTML representation is unable to render, please try loading this page with nbviewer.org.</b></div><div class=\"sk-container\" hidden><div class=\"sk-item\"><div class=\"sk-estimator sk-toggleable\"><input class=\"sk-toggleable__control sk-hidden--visually\" id=\"sk-estimator-id-1\" type=\"checkbox\" checked><label for=\"sk-estimator-id-1\" class=\"sk-toggleable__label sk-toggleable__label-arrow\">RandomForestRegressor</label><div class=\"sk-toggleable__content\"><pre>RandomForestRegressor(random_state=42)</pre></div></div></div></div></div>"
            ]
          },
          "metadata": {},
          "execution_count": 16
        }
      ]
    },
    {
      "cell_type": "markdown",
      "source": [
        "## predict_best_housing()\n",
        "this function takes in a location and price range and looks predicts the best housing options based on features such as the beds, baths, square feet all compared to distance and price."
      ],
      "metadata": {
        "id": "DiPxZNa7iWkV"
      }
    },
    {
      "cell_type": "code",
      "source": [
        "def predict_best_housing(location, price_range):\n",
        "    # Filter the data based on location and price range\n",
        "    filtered_data = df_cleaned[(df_cleaned['PRICE'] <= price_range[1]) &\n",
        "                                 (df_cleaned['PRICE'] >= price_range[0])]\n",
        "    features_filtered = filtered_data[['PRICE', 'BEDS', 'BATH', 'PROPERTYSQFT']]\n",
        "    features_filtered_scaled = scaler.transform(features_filtered)\n",
        "    predictions = rf_regressor.predict(features_filtered_scaled)\n",
        "\n",
        "    # Convert predictions to DataFrame for better readability\n",
        "    predictions_df = pd.DataFrame(predictions, columns=['Predicted Price', 'Predicted SqFt', 'Predicted Beds', 'Predicted Bath'])\n",
        "    predictions_df['Address'] = filtered_data['FORMATTED_ADDRESS'].values\n",
        "    predictions_df['Latitude'] = filtered_data['LATITUDE'].values\n",
        "    predictions_df['Longitude'] = filtered_data['LONGITUDE'].values\n",
        "\n",
        "    return predictions_df\n"
      ],
      "metadata": {
        "id": "fu2_J0c4dFwv"
      },
      "execution_count": 33,
      "outputs": []
    },
    {
      "cell_type": "markdown",
      "source": [
        "## create_map()\n",
        "In order to make this as usable as possible, we decided to create a map that is fitted to the top 5 predicted housing options with interactability that allows users to see information about each option."
      ],
      "metadata": {
        "id": "i6EeF4j6ixaY"
      }
    },
    {
      "cell_type": "code",
      "source": [
        "def create_map(predicted_houses):\n",
        "    # Initialize the map\n",
        "    folium_map = folium.Map(location=[predicted_houses.iloc[0]['Latitude'], predicted_houses.iloc[0]['Longitude']], zoom_start=13)\n",
        "\n",
        "    # List to store the locations for zoom adjustments\n",
        "    locations = []\n",
        "\n",
        "    # Add markers for the top 5 addresses\n",
        "    for index, row in predicted_houses.head(5).iterrows():\n",
        "        location = [row['Latitude'], row['Longitude']]\n",
        "        locations.append(location)\n",
        "        folium.Marker(\n",
        "            location=location,\n",
        "            popup=folium.Popup(f\"Address: {row['Address']}<br>\"\n",
        "                               f\"Predicted Price: ${row['Predicted Price']:.2f}<br>\"\n",
        "                               f\"Predicted SqFt: {row['Predicted SqFt']:.2f} sqft<br>\"\n",
        "                               f\"Predicted Beds: {row['Predicted Beds']:.2f}<br>\"\n",
        "                               f\"Predicted Bath: {row['Predicted Bath']:.2f}\", max_width=250),\n",
        "            icon=folium.Icon(color='blue')\n",
        "        ).add_to(folium_map)\n",
        "\n",
        "    # Adjust the map to fit the markers\n",
        "    folium_map.fit_bounds(locations)\n",
        "\n",
        "    return folium_map"
      ],
      "metadata": {
        "id": "ermYk5giftgR"
      },
      "execution_count": 37,
      "outputs": []
    },
    {
      "cell_type": "markdown",
      "source": [
        "## Example Usage\n",
        "\n",
        "location input -> The user's desired location\n",
        "\n",
        "price_range_input -> (minimum, maximum)\n",
        "\n",
        "The rest will first predict the optimal housing options and then generate an interactable map for the user to see their options."
      ],
      "metadata": {
        "id": "gRUq6VFajBCJ"
      }
    },
    {
      "cell_type": "code",
      "source": [
        "location_input = 'New York'\n",
        "price_range_input = (500000, 1000000)\n",
        "predicted_houses = predict_best_housing(location_input, price_range_input)\n",
        "house_map = create_map(predicted_houses)\n",
        "house_map"
      ],
      "metadata": {
        "colab": {
          "base_uri": "https://localhost:8080/",
          "height": 616
        },
        "id": "LQOeVNLUgmKi",
        "outputId": "60e656a7-3728-4c71-c6f7-d7a712df4a42"
      },
      "execution_count": 46,
      "outputs": [
        {
          "output_type": "execute_result",
          "data": {
            "text/plain": [
              "<folium.folium.Map at 0x78710c6f63b0>"
            ],
            "text/html": [
              "<div style=\"width:100%;\"><div style=\"position:relative;width:100%;height:0;padding-bottom:60%;\"><span style=\"color:#565656\">Make this Notebook Trusted to load map: File -> Trust Notebook</span><iframe srcdoc=\"&lt;!DOCTYPE html&gt;\n",
              "&lt;html&gt;\n",
              "&lt;head&gt;\n",
              "    \n",
              "    &lt;meta http-equiv=&quot;content-type&quot; content=&quot;text/html; charset=UTF-8&quot; /&gt;\n",
              "    \n",
              "        &lt;script&gt;\n",
              "            L_NO_TOUCH = false;\n",
              "            L_DISABLE_3D = false;\n",
              "        &lt;/script&gt;\n",
              "    \n",
              "    &lt;style&gt;html, body {width: 100%;height: 100%;margin: 0;padding: 0;}&lt;/style&gt;\n",
              "    &lt;style&gt;#map {position:absolute;top:0;bottom:0;right:0;left:0;}&lt;/style&gt;\n",
              "    &lt;script src=&quot;https://cdn.jsdelivr.net/npm/leaflet@1.9.3/dist/leaflet.js&quot;&gt;&lt;/script&gt;\n",
              "    &lt;script src=&quot;https://code.jquery.com/jquery-1.12.4.min.js&quot;&gt;&lt;/script&gt;\n",
              "    &lt;script src=&quot;https://cdn.jsdelivr.net/npm/bootstrap@5.2.2/dist/js/bootstrap.bundle.min.js&quot;&gt;&lt;/script&gt;\n",
              "    &lt;script src=&quot;https://cdnjs.cloudflare.com/ajax/libs/Leaflet.awesome-markers/2.0.2/leaflet.awesome-markers.js&quot;&gt;&lt;/script&gt;\n",
              "    &lt;link rel=&quot;stylesheet&quot; href=&quot;https://cdn.jsdelivr.net/npm/leaflet@1.9.3/dist/leaflet.css&quot;/&gt;\n",
              "    &lt;link rel=&quot;stylesheet&quot; href=&quot;https://cdn.jsdelivr.net/npm/bootstrap@5.2.2/dist/css/bootstrap.min.css&quot;/&gt;\n",
              "    &lt;link rel=&quot;stylesheet&quot; href=&quot;https://netdna.bootstrapcdn.com/bootstrap/3.0.0/css/bootstrap.min.css&quot;/&gt;\n",
              "    &lt;link rel=&quot;stylesheet&quot; href=&quot;https://cdn.jsdelivr.net/npm/@fortawesome/fontawesome-free@6.2.0/css/all.min.css&quot;/&gt;\n",
              "    &lt;link rel=&quot;stylesheet&quot; href=&quot;https://cdnjs.cloudflare.com/ajax/libs/Leaflet.awesome-markers/2.0.2/leaflet.awesome-markers.css&quot;/&gt;\n",
              "    &lt;link rel=&quot;stylesheet&quot; href=&quot;https://cdn.jsdelivr.net/gh/python-visualization/folium/folium/templates/leaflet.awesome.rotate.min.css&quot;/&gt;\n",
              "    \n",
              "            &lt;meta name=&quot;viewport&quot; content=&quot;width=device-width,\n",
              "                initial-scale=1.0, maximum-scale=1.0, user-scalable=no&quot; /&gt;\n",
              "            &lt;style&gt;\n",
              "                #map_34537eb9310abf5576fe8a1c9cf8133f {\n",
              "                    position: relative;\n",
              "                    width: 100.0%;\n",
              "                    height: 100.0%;\n",
              "                    left: 0.0%;\n",
              "                    top: 0.0%;\n",
              "                }\n",
              "                .leaflet-container { font-size: 1rem; }\n",
              "            &lt;/style&gt;\n",
              "        \n",
              "&lt;/head&gt;\n",
              "&lt;body&gt;\n",
              "    \n",
              "    \n",
              "            &lt;div class=&quot;folium-map&quot; id=&quot;map_34537eb9310abf5576fe8a1c9cf8133f&quot; &gt;&lt;/div&gt;\n",
              "        \n",
              "&lt;/body&gt;\n",
              "&lt;script&gt;\n",
              "    \n",
              "    \n",
              "            var map_34537eb9310abf5576fe8a1c9cf8133f = L.map(\n",
              "                &quot;map_34537eb9310abf5576fe8a1c9cf8133f&quot;,\n",
              "                {\n",
              "                    center: [40.6743632, -73.9587248],\n",
              "                    crs: L.CRS.EPSG3857,\n",
              "                    zoom: 13,\n",
              "                    zoomControl: true,\n",
              "                    preferCanvas: false,\n",
              "                }\n",
              "            );\n",
              "\n",
              "            \n",
              "\n",
              "        \n",
              "    \n",
              "            var tile_layer_30b823a431297e0caa14eaa608b82dda = L.tileLayer(\n",
              "                &quot;https://{s}.tile.openstreetmap.org/{z}/{x}/{y}.png&quot;,\n",
              "                {&quot;attribution&quot;: &quot;Data by \\u0026copy; \\u003ca target=\\&quot;_blank\\&quot; href=\\&quot;http://openstreetmap.org\\&quot;\\u003eOpenStreetMap\\u003c/a\\u003e, under \\u003ca target=\\&quot;_blank\\&quot; href=\\&quot;http://www.openstreetmap.org/copyright\\&quot;\\u003eODbL\\u003c/a\\u003e.&quot;, &quot;detectRetina&quot;: false, &quot;maxNativeZoom&quot;: 18, &quot;maxZoom&quot;: 18, &quot;minZoom&quot;: 0, &quot;noWrap&quot;: false, &quot;opacity&quot;: 1, &quot;subdomains&quot;: &quot;abc&quot;, &quot;tms&quot;: false}\n",
              "            ).addTo(map_34537eb9310abf5576fe8a1c9cf8133f);\n",
              "        \n",
              "    \n",
              "            var marker_f3a0ebbd4ac34fd196c51561e71d6d46 = L.marker(\n",
              "                [40.6743632, -73.9587248],\n",
              "                {}\n",
              "            ).addTo(map_34537eb9310abf5576fe8a1c9cf8133f);\n",
              "        \n",
              "    \n",
              "            var icon_0083256b39195f744222191fb93ddf2c = L.AwesomeMarkers.icon(\n",
              "                {&quot;extraClasses&quot;: &quot;fa-rotate-0&quot;, &quot;icon&quot;: &quot;info-sign&quot;, &quot;iconColor&quot;: &quot;white&quot;, &quot;markerColor&quot;: &quot;blue&quot;, &quot;prefix&quot;: &quot;glyphicon&quot;}\n",
              "            );\n",
              "            marker_f3a0ebbd4ac34fd196c51561e71d6d46.setIcon(icon_0083256b39195f744222191fb93ddf2c);\n",
              "        \n",
              "    \n",
              "        var popup_dd71831a7356500cc967c67610521cdd = L.popup({&quot;maxWidth&quot;: 250});\n",
              "\n",
              "        \n",
              "            \n",
              "                var html_c9188c5aa9fdc308d639e6a8e7c0bf61 = $(`&lt;div id=&quot;html_c9188c5aa9fdc308d639e6a8e7c0bf61&quot; style=&quot;width: 100.0%; height: 100.0%;&quot;&gt;Address: 584 Park Pl, Brooklyn, NY 11238, USA&lt;br&gt;Predicted Price: $689943.00&lt;br&gt;Predicted SqFt: 3308.71 sqft&lt;br&gt;Predicted Beds: 4.39&lt;br&gt;Predicted Bath: 2.26&lt;/div&gt;`)[0];\n",
              "                popup_dd71831a7356500cc967c67610521cdd.setContent(html_c9188c5aa9fdc308d639e6a8e7c0bf61);\n",
              "            \n",
              "        \n",
              "\n",
              "        marker_f3a0ebbd4ac34fd196c51561e71d6d46.bindPopup(popup_dd71831a7356500cc967c67610521cdd)\n",
              "        ;\n",
              "\n",
              "        \n",
              "    \n",
              "    \n",
              "            var marker_fb1d50056e45caebc126e5b06f585976 = L.marker(\n",
              "                [40.809448, -73.946777],\n",
              "                {}\n",
              "            ).addTo(map_34537eb9310abf5576fe8a1c9cf8133f);\n",
              "        \n",
              "    \n",
              "            var icon_13699dcf0fb4a6eafeb77926ea5b0f9a = L.AwesomeMarkers.icon(\n",
              "                {&quot;extraClasses&quot;: &quot;fa-rotate-0&quot;, &quot;icon&quot;: &quot;info-sign&quot;, &quot;iconColor&quot;: &quot;white&quot;, &quot;markerColor&quot;: &quot;blue&quot;, &quot;prefix&quot;: &quot;glyphicon&quot;}\n",
              "            );\n",
              "            marker_fb1d50056e45caebc126e5b06f585976.setIcon(icon_13699dcf0fb4a6eafeb77926ea5b0f9a);\n",
              "        \n",
              "    \n",
              "        var popup_4fe55de68a616d5b332b64e613ad6a51 = L.popup({&quot;maxWidth&quot;: 250});\n",
              "\n",
              "        \n",
              "            \n",
              "                var html_d43b46cdebc7d8b3eaeb57255f86659f = $(`&lt;div id=&quot;html_d43b46cdebc7d8b3eaeb57255f86659f&quot; style=&quot;width: 100.0%; height: 100.0%;&quot;&gt;Address: 157 W 126th St #1b, New York, NY 10027, USA&lt;br&gt;Predicted Price: $899624.43&lt;br&gt;Predicted SqFt: 2187.97 sqft&lt;br&gt;Predicted Beds: 2.29&lt;br&gt;Predicted Bath: 2.01&lt;/div&gt;`)[0];\n",
              "                popup_4fe55de68a616d5b332b64e613ad6a51.setContent(html_d43b46cdebc7d8b3eaeb57255f86659f);\n",
              "            \n",
              "        \n",
              "\n",
              "        marker_fb1d50056e45caebc126e5b06f585976.bindPopup(popup_4fe55de68a616d5b332b64e613ad6a51)\n",
              "        ;\n",
              "\n",
              "        \n",
              "    \n",
              "    \n",
              "            var marker_ca5d588140eb988199a8d5f99e31e56e = L.marker(\n",
              "                [40.6249962, -74.1553058],\n",
              "                {}\n",
              "            ).addTo(map_34537eb9310abf5576fe8a1c9cf8133f);\n",
              "        \n",
              "    \n",
              "            var icon_db156602f51731ef6318930acde1ebdd = L.AwesomeMarkers.icon(\n",
              "                {&quot;extraClasses&quot;: &quot;fa-rotate-0&quot;, &quot;icon&quot;: &quot;info-sign&quot;, &quot;iconColor&quot;: &quot;white&quot;, &quot;markerColor&quot;: &quot;blue&quot;, &quot;prefix&quot;: &quot;glyphicon&quot;}\n",
              "            );\n",
              "            marker_ca5d588140eb988199a8d5f99e31e56e.setIcon(icon_db156602f51731ef6318930acde1ebdd);\n",
              "        \n",
              "    \n",
              "        var popup_11e62a343bd04ec49c4d8dbe4fc6f4a4 = L.popup({&quot;maxWidth&quot;: 250});\n",
              "\n",
              "        \n",
              "            \n",
              "                var html_10985508468233e46867a1a0119f0b24 = $(`&lt;div id=&quot;html_10985508468233e46867a1a0119f0b24&quot; style=&quot;width: 100.0%; height: 100.0%;&quot;&gt;Address: 456 Van Name Ave, Staten Island, NY 10303, USA&lt;br&gt;Predicted Price: $688970.00&lt;br&gt;Predicted SqFt: 1186.87 sqft&lt;br&gt;Predicted Beds: 2.73&lt;br&gt;Predicted Bath: 2.19&lt;/div&gt;`)[0];\n",
              "                popup_11e62a343bd04ec49c4d8dbe4fc6f4a4.setContent(html_10985508468233e46867a1a0119f0b24);\n",
              "            \n",
              "        \n",
              "\n",
              "        marker_ca5d588140eb988199a8d5f99e31e56e.bindPopup(popup_11e62a343bd04ec49c4d8dbe4fc6f4a4)\n",
              "        ;\n",
              "\n",
              "        \n",
              "    \n",
              "    \n",
              "            var marker_779800392ffa36f10c538b60ee1ede34 = L.marker(\n",
              "                [40.7382981, -74.0058899],\n",
              "                {}\n",
              "            ).addTo(map_34537eb9310abf5576fe8a1c9cf8133f);\n",
              "        \n",
              "    \n",
              "            var icon_b9c3d7305e59cf0aa14e0c99f051229b = L.AwesomeMarkers.icon(\n",
              "                {&quot;extraClasses&quot;: &quot;fa-rotate-0&quot;, &quot;icon&quot;: &quot;info-sign&quot;, &quot;iconColor&quot;: &quot;white&quot;, &quot;markerColor&quot;: &quot;blue&quot;, &quot;prefix&quot;: &quot;glyphicon&quot;}\n",
              "            );\n",
              "            marker_779800392ffa36f10c538b60ee1ede34.setIcon(icon_b9c3d7305e59cf0aa14e0c99f051229b);\n",
              "        \n",
              "    \n",
              "        var popup_fd245c22f2f08dcd2d9477a72cce6351 = L.popup({&quot;maxWidth&quot;: 250});\n",
              "\n",
              "        \n",
              "            \n",
              "                var html_b93d7403de3c8c5359837c2c6f77c0ca = $(`&lt;div id=&quot;html_b93d7403de3c8c5359837c2c6f77c0ca&quot; style=&quot;width: 100.0%; height: 100.0%;&quot;&gt;Address: 61 Jane St #6n, New York, NY 10014, USA&lt;br&gt;Predicted Price: $895670.00&lt;br&gt;Predicted SqFt: 1951.16 sqft&lt;br&gt;Predicted Beds: 2.40&lt;br&gt;Predicted Bath: 1.41&lt;/div&gt;`)[0];\n",
              "                popup_fd245c22f2f08dcd2d9477a72cce6351.setContent(html_b93d7403de3c8c5359837c2c6f77c0ca);\n",
              "            \n",
              "        \n",
              "\n",
              "        marker_779800392ffa36f10c538b60ee1ede34.bindPopup(popup_fd245c22f2f08dcd2d9477a72cce6351)\n",
              "        ;\n",
              "\n",
              "        \n",
              "    \n",
              "    \n",
              "            var marker_19ef33174d77ffba52afd6d8fa01c039 = L.marker(\n",
              "                [40.5406209, -74.1671632],\n",
              "                {}\n",
              "            ).addTo(map_34537eb9310abf5576fe8a1c9cf8133f);\n",
              "        \n",
              "    \n",
              "            var icon_746d288ea0b12ce7c8099c286177758f = L.AwesomeMarkers.icon(\n",
              "                {&quot;extraClasses&quot;: &quot;fa-rotate-0&quot;, &quot;icon&quot;: &quot;info-sign&quot;, &quot;iconColor&quot;: &quot;white&quot;, &quot;markerColor&quot;: &quot;blue&quot;, &quot;prefix&quot;: &quot;glyphicon&quot;}\n",
              "            );\n",
              "            marker_19ef33174d77ffba52afd6d8fa01c039.setIcon(icon_746d288ea0b12ce7c8099c286177758f);\n",
              "        \n",
              "    \n",
              "        var popup_f929f8f727cd858ec1384040a0d6f7d5 = L.popup({&quot;maxWidth&quot;: 250});\n",
              "\n",
              "        \n",
              "            \n",
              "                var html_6eb5d1e2ffd3142269a245b671711647 = $(`&lt;div id=&quot;html_6eb5d1e2ffd3142269a245b671711647&quot; style=&quot;width: 100.0%; height: 100.0%;&quot;&gt;Address: 4654 Amboy Rd #2b, Staten Island, NY 10312, USA&lt;br&gt;Predicted Price: $548980.00&lt;br&gt;Predicted SqFt: 1038.08 sqft&lt;br&gt;Predicted Beds: 2.10&lt;br&gt;Predicted Bath: 1.99&lt;/div&gt;`)[0];\n",
              "                popup_f929f8f727cd858ec1384040a0d6f7d5.setContent(html_6eb5d1e2ffd3142269a245b671711647);\n",
              "            \n",
              "        \n",
              "\n",
              "        marker_19ef33174d77ffba52afd6d8fa01c039.bindPopup(popup_f929f8f727cd858ec1384040a0d6f7d5)\n",
              "        ;\n",
              "\n",
              "        \n",
              "    \n",
              "    \n",
              "            map_34537eb9310abf5576fe8a1c9cf8133f.fitBounds(\n",
              "                [[40.6743632, -73.9587248], [40.809448, -73.946777], [40.6249962, -74.1553058], [40.7382981, -74.0058899], [40.5406209, -74.1671632]],\n",
              "                {}\n",
              "            );\n",
              "        \n",
              "&lt;/script&gt;\n",
              "&lt;/html&gt;\" style=\"position:absolute;width:100%;height:100%;left:0;top:0;border:none !important;\" allowfullscreen webkitallowfullscreen mozallowfullscreen></iframe></div></div>"
            ]
          },
          "metadata": {},
          "execution_count": 46
        }
      ]
    },
    {
      "cell_type": "markdown",
      "source": [
        "## Visualizing Predictions vs. Real Values"
      ],
      "metadata": {
        "id": "5AMVHGoLlL39"
      }
    },
    {
      "cell_type": "code",
      "source": [
        "import matplotlib.pyplot as plt\n",
        "import seaborn as sns\n",
        "\n",
        "# Set the aesthetic style of the plots\n",
        "sns.set_style(\"whitegrid\")\n",
        "\n",
        "# Set up the matplotlib figure\n",
        "plt.figure(figsize=(12, 6))  # Adjust total size of the figure\n",
        "\n",
        "# First subplot for Actual vs. Predicted values\n",
        "plt.subplot(1, 2, 1)  # 1 row, 2 columns, first plot\n",
        "plt.scatter(y_test, y_pred, alpha=0.5)\n",
        "plt.title('Actual vs. Predicted Prices')\n",
        "plt.xlabel('Actual Prices')\n",
        "plt.ylabel('Predicted Prices')\n",
        "plt.plot([y_test.min(), y_test.max()], [y_test.min(), y_test.max()], 'k--', lw=4)  # Line showing perfect predictions\n",
        "\n",
        "# Second subplot for Residuals\n",
        "plt.subplot(1, 2, 2)  # 1 row, 2 columns, second plot\n",
        "residuals = y_test - y_pred\n",
        "plt.scatter(y_pred, residuals, alpha=0.5)\n",
        "plt.title('Residuals of Predictions')\n",
        "plt.xlabel('Predicted Prices')\n",
        "plt.ylabel('Residuals')\n",
        "plt.hlines(y=0, xmin=y_pred.min(), xmax=y_pred.max(), colors='red', linestyles='--')  # Line at 0 for reference\n",
        "\n",
        "# Adjust layout to prevent overlap\n",
        "plt.tight_layout()\n",
        "\n",
        "# Show the plots\n",
        "plt.show()"
      ],
      "metadata": {
        "colab": {
          "base_uri": "https://localhost:8080/",
          "height": 513
        },
        "id": "976H79ghkeU0",
        "outputId": "98c8798f-8ef8-4d1d-c5dd-98eea060ecbb"
      },
      "execution_count": 52,
      "outputs": [
        {
          "output_type": "display_data",
          "data": {
            "text/plain": [
              "<Figure size 1200x600 with 2 Axes>"
            ],
            "image/png": "[encoded data removed]"
          },
          "metadata": {}
        }
      ]
    },
    {
      "cell_type": "markdown",
      "source": [
        "## Error, Calculating R-Squared"
      ],
      "metadata": {
        "id": "c0CPMmBNhQcO"
      }
    },
    {
      "cell_type": "code",
      "source": [
        "from sklearn.metrics import mean_squared_error, r2_score\n",
        "\n",
        "y_pred = rf_regressor.predict(X_test)\n",
        "\n",
        "# Calculate R-squared\n",
        "r2 = r2_score(y_test, y_pred)\n",
        "print(\"R-squared:\", r2)"
      ],
      "metadata": {
        "colab": {
          "base_uri": "https://localhost:8080/"
        },
        "id": "BNX82_0vg6aQ",
        "outputId": "b7b605f5-4139-420b-9f83-9881440c0799"
      },
      "execution_count": 53,
      "outputs": [
        {
          "output_type": "stream",
          "name": "stdout",
          "text": [
            "R-squared: 0.564684275272144\n"
          ]
        }
      ]
    },
    {
      "cell_type": "markdown",
      "source": [
        "## Interpreting & Explaining Error\n",
        "\n",
        "An R-squared of 0.564 indicates that our model explains approximately 56.47% of the variance in the target variable, suggesting a moderate fit. This could be due to missing key predictive features, insufficient model complexity, or data quality issues. Enhancing the model by adding more relevant features, fine-tuning model parameters, or exploring more sophisticated modeling techniques might improve its predictive accuracy."
      ],
      "metadata": {
        "id": "XQzqQKWQjnr8"
      }
    },
    {
      "cell_type": "markdown",
      "source": [
        "#Bibliography\n",
        "\n",
        "Dataset - https://www.kaggle.com/datasets/nelgiriyewithana/new-york-housing-market"
      ],
      "metadata": {
        "id": "5DaptL8XQriR"
      }
    }
  ]
}